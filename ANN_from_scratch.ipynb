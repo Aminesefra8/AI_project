{
 "cells": [
  {
   "cell_type": "code",
   "execution_count": 1,
   "id": "671101fc",
   "metadata": {},
   "outputs": [],
   "source": [
    "import numpy as np\n",
    "import matplotlib.pyplot as plt"
   ]
  },
  {
   "cell_type": "code",
   "execution_count": 2,
   "id": "2b88e51c",
   "metadata": {},
   "outputs": [],
   "source": [
    "def Initialisation(dimensions):\n",
    "    \n",
    "    parametres={}\n",
    "    C= len(dimensions)\n",
    "    \n",
    "    for c in range(1,C):\n",
    "        \n",
    "        parametres['W'+ str(c)]= np.random.randn(dimensions[c], dimensions[c-1])\n",
    "        parametres['b'+ str(c)]= np.random.randn(dimensions[c],1)\n",
    "        \n",
    "    return parametres"
   ]
  },
  {
   "cell_type": "code",
   "execution_count": 3,
   "id": "83874276",
   "metadata": {},
   "outputs": [],
   "source": [
    "def forward_propagation(X, parametres):\n",
    "    \n",
    "    activations= {'A0': X}\n",
    "    C= len(parametres) // 2\n",
    "    \n",
    "    for c in range(1,C+1):\n",
    "        \n",
    "        Z= parametres['W' + str(c)].dot(activations['A' + str(c-1)])+parametres['b' + str(c)]\n",
    "        activations['A' + str(c)]= 1/(1+np.exp(-Z))\n",
    "        \n",
    "    return activations"
   ]
  },
  {
   "cell_type": "code",
   "execution_count": 4,
   "id": "f98684dc",
   "metadata": {},
   "outputs": [],
   "source": [
    "def back_propagation(y, activations, parametres):\n",
    "    \n",
    "    m= y.shape[1]\n",
    "    \n",
    "    C= len(parametres) // 2\n",
    "    dZ= activations['A' + str(C)]-y\n",
    "    gradients={}\n",
    "    \n",
    "    for c in reversed(range(1,C+1)):\n",
    "        \n",
    "        gradients['dW' + str(c)]= 1/m * np.dot(dZ, activations['A' + str(c-1)].T)\n",
    "        gradients['db' + str(c)]= 1/m * np.sum(dZ, axis=1, keepdims= True)\n",
    "        \n",
    "        if(c>1):\n",
    "            \n",
    "            dZ= np.dot(parametres['W' + str(c)].T, dZ) * activations['A' + str(c-1)] * (1-activations['A' + str(c-1)])\n",
    "        \n",
    "    return gradients"
   ]
  },
  {
   "cell_type": "code",
   "execution_count": 5,
   "id": "f1d33426",
   "metadata": {},
   "outputs": [],
   "source": [
    "def update(gradients, parametres, learning_rate):\n",
    "    \n",
    "    C= len(parametres) // 2\n",
    "    \n",
    "    for c in range(1,C+1):\n",
    "        \n",
    "        parametres['W'+ str(c)]= parametres['W'+ str(c)]-learning_rate*gradients['dW'+ str(c)]\n",
    "        parametres['b'+ str(c)]= parametres['b'+ str(c)]-learning_rate*gradients['db'+ str(c)]\n",
    "        \n",
    "    return parametres"
   ]
  },
  {
   "cell_type": "code",
   "execution_count": 31,
   "id": "1f5c63fc",
   "metadata": {},
   "outputs": [],
   "source": [
    "def predict(X, parametres):\n",
    "    \n",
    "    activations= forward_propagation(X, parametres)\n",
    "    C= len(activations)-1\n",
    "    A= activations['A' + str(C)]\n",
    "    return A>=0.5"
   ]
  },
  {
   "cell_type": "code",
   "execution_count": 32,
   "id": "c3c027ea",
   "metadata": {},
   "outputs": [],
   "source": [
    "def log_loss(activations,y):\n",
    "    \n",
    "    epsilon= 1e-15\n",
    "    C= len(activations)-1\n",
    "    return -1/(y.shape[1])*np.sum(y*np.log(activations['A' + str(C)]+epsilon)+(1-y)*np.log(1-activations['A' + str(C)]+epsilon))"
   ]
  },
  {
   "cell_type": "code",
   "execution_count": 7,
   "id": "e521f8fa",
   "metadata": {},
   "outputs": [],
   "source": [
    "from tqdm import tqdm\n",
    "from sklearn.metrics import accuracy_score\n",
    "from sklearn.metrics import log_loss"
   ]
  },
  {
   "cell_type": "code",
   "execution_count": 33,
   "id": "ba1d946e",
   "metadata": {},
   "outputs": [],
   "source": [
    "def neural_network(X_train, y_train, X_test, y_test, hidden_layers=(32, 32, 32), learning_rate=0.1, n_iter=1000):\n",
    "    \n",
    "    np.random.seed(0)\n",
    "    \n",
    "    #Initialisation de W et b\n",
    "\n",
    "    \n",
    "    dimensions= list(hidden_layers)\n",
    "    dimensions.insert(0, X_train.shape[0])\n",
    "    dimensions.append(y_train.shape[0])\n",
    "    parametres= Initialisation(dimensions)\n",
    "    \n",
    "    Loss_train=[]\n",
    "    Loss_test=[]\n",
    "    acc_train=[]\n",
    "    acc_test=[]\n",
    "    \n",
    "    \n",
    "    \n",
    "    for i in tqdm(range(n_iter)):\n",
    "        \n",
    "        #forward propagation\n",
    "    \n",
    "        activations= forward_propagation(X_train, parametres)\n",
    "    \n",
    "        \n",
    "        #backward propagation\n",
    "        \n",
    "        gradients= back_propagation(y_train, activations, parametres)\n",
    "        \n",
    "        #mise à jour des paramètres\n",
    "        \n",
    "        parametres= update(gradients, parametres, learning_rate)\n",
    "        \n",
    "        if i%10==0:\n",
    "            \n",
    "            #log loss and accuracy for train dataset\n",
    "            \n",
    "            C= len(parametres) // 2\n",
    "            Loss_train.append(log_loss(activations,y_train))\n",
    "            y_pred= predict(X_train, parametres)\n",
    "            acc_train.append(accuracy_score(y_train.flatten(),y_pred.flatten()))\n",
    "            \n",
    "            #log loss and accuracy for test dataset\n",
    "            \n",
    "            activations_test= forward_propagation(X_test, parametres)\n",
    "            Loss_test.append(log_loss(activations_test, y_test))\n",
    "            y_pred_test= predict(X_test, parametres)\n",
    "            acc_test.append(accuracy_score(y_test.flatten(),y_pred_test.flatten()))\n",
    "            \n",
    "            \n",
    "            \n",
    "            \n",
    "    #Graphiques\n",
    "            \n",
    "    plt.figure(figsize=(12,4))\n",
    "    plt.subplot(1,2,1)\n",
    "    plt.plot(Loss_train, label=\"train loss\")\n",
    "    plt.plot(Loss_test, label=\"test loss\")\n",
    "    plt.legend()\n",
    "    plt.subplot(1,2,2)\n",
    "    plt.plot(acc_train, label=\"train accuracy\")\n",
    "    plt.plot(acc_test, label=\"test accuracy\")\n",
    "    plt.legend()\n",
    "    plt.show()\n",
    "        \n",
    "    return parametres\n",
    "        \n",
    "    "
   ]
  },
  {
   "cell_type": "code",
   "execution_count": 9,
   "id": "f03e8eb2",
   "metadata": {},
   "outputs": [],
   "source": [
    "import h5py\n",
    "\n",
    "\n",
    "def load_data():\n",
    "    train_dataset = h5py.File('trainset.hdf5', \"r\")\n",
    "    X_train = np.array(train_dataset[\"X_train\"][:]) # your train set features\n",
    "    y_train = np.array(train_dataset[\"Y_train\"][:]) # your train set labels\n",
    "\n",
    "    test_dataset = h5py.File('testset.hdf5', \"r\")\n",
    "    X_test = np.array(test_dataset[\"X_test\"][:]) # your train set features\n",
    "    y_test = np.array(test_dataset[\"Y_test\"][:]) # your train set labels\n",
    "    \n",
    "    return X_train, y_train, X_test, y_test"
   ]
  },
  {
   "cell_type": "code",
   "execution_count": 10,
   "id": "5ebca661",
   "metadata": {},
   "outputs": [],
   "source": [
    "X_train, y_train, X_test, y_test= load_data()"
   ]
  },
  {
   "cell_type": "code",
   "execution_count": 11,
   "id": "1179d71f",
   "metadata": {},
   "outputs": [],
   "source": [
    "y_train_reshape= y_train.T"
   ]
  },
  {
   "cell_type": "code",
   "execution_count": 12,
   "id": "4e700f5e",
   "metadata": {},
   "outputs": [],
   "source": [
    "y_test_reshape= y_test.T"
   ]
  },
  {
   "cell_type": "code",
   "execution_count": 13,
   "id": "a2e9d335",
   "metadata": {},
   "outputs": [],
   "source": [
    "X_train_reshape= X_train.reshape((X_train.shape[0],-1))/X_train.max()"
   ]
  },
  {
   "cell_type": "code",
   "execution_count": 14,
   "id": "27ac6b84",
   "metadata": {},
   "outputs": [],
   "source": [
    "X_train_reshape= X_train_reshape.T"
   ]
  },
  {
   "cell_type": "code",
   "execution_count": 15,
   "id": "d2311f74",
   "metadata": {},
   "outputs": [],
   "source": [
    "X_test_reshape= X_test.reshape((X_test.shape[0],-1))/X_train.max()\n",
    "X_test_reshape= X_test_reshape.T"
   ]
  },
  {
   "cell_type": "code",
   "execution_count": 35,
   "id": "76072036",
   "metadata": {},
   "outputs": [
    {
     "name": "stderr",
     "output_type": "stream",
     "text": [
      "100%|█████████████████████████████████████| 10000/10000 [04:04<00:00, 40.88it/s]\n"
     ]
    },
    {
     "data": {
      "image/png": "[encoded data removed]",
      "text/plain": [
       "<Figure size 864x288 with 2 Axes>"
      ]
     },
     "metadata": {
      "needs_background": "light"
     },
     "output_type": "display_data"
    }
   ],
   "source": [
    "parametres_2_layers= neural_network(X_train_reshape, y_train_reshape, X_test_reshape, \n",
    "                            y_test_reshape,\n",
    "                            hidden_layers=(32,32), learning_rate=0.01, n_iter=10000)"
   ]
  },
  {
   "cell_type": "code",
   "execution_count": null,
   "id": "772f773d",
   "metadata": {},
   "outputs": [
    {
     "name": "stderr",
     "output_type": "stream",
     "text": [
      " 91%|██████████████████████████████████▌   | 9098/10000 [03:39<00:26, 33.70it/s]"
     ]
    }
   ],
   "source": [
    "parametres_3_layers= neural_network(X_train_reshape, y_train_reshape, X_test_reshape, \n",
    "                            y_test_reshape,\n",
    "                            hidden_layers=(32,32,32), learning_rate=0.1, n_iter=10000)"
   ]
  },
  {
   "cell_type": "code",
   "execution_count": 25,
   "id": "b7f98cca",
   "metadata": {},
   "outputs": [
    {
     "data": {
      "text/plain": [
       "array([[0.18503937, 0.51181102, 0.8503937 , ..., 0.15748031, 0.81102362,\n",
       "        0.43307087],\n",
       "       [0.18503937, 0.58267717, 0.52362205, ..., 0.2007874 , 0.81102362,\n",
       "        0.3976378 ],\n",
       "       [0.2007874 , 0.49212598, 0.78740157, ..., 0.78346457, 0.81102362,\n",
       "        0.46062992],\n",
       "       ...,\n",
       "       [0.61023622, 0.4488189 , 0.75984252, ..., 0.53937008, 0.44094488,\n",
       "        0.4015748 ],\n",
       "       [0.61417323, 0.30314961, 0.65354331, ..., 0.84251969, 0.43700787,\n",
       "        0.13385827],\n",
       "       [0.60629921, 0.46062992, 0.69685039, ..., 0.49212598, 0.40944882,\n",
       "        0.21653543]])"
      ]
     },
     "execution_count": 25,
     "metadata": {},
     "output_type": "execute_result"
    }
   ],
   "source": [
    "X_test_reshape"
   ]
  },
  {
   "cell_type": "code",
   "execution_count": 29,
   "id": "adb7ceaa",
   "metadata": {},
   "outputs": [
    {
     "data": {
      "text/plain": [
       "(1, 200)"
      ]
     },
     "execution_count": 29,
     "metadata": {},
     "output_type": "execute_result"
    }
   ],
   "source": [
    "y_test_reshape.shape"
   ]
  },
  {
   "cell_type": "code",
   "execution_count": 30,
   "id": "4dee0c65",
   "metadata": {},
   "outputs": [
    {
     "data": {
      "text/plain": [
       "(4096, 200)"
      ]
     },
     "execution_count": 30,
     "metadata": {},
     "output_type": "execute_result"
    }
   ],
   "source": [
    "X_test_reshape.shape"
   ]
  },
  {
   "cell_type": "code",
   "execution_count": null,
   "id": "12cddc9e",
   "metadata": {},
   "outputs": [],
   "source": []
  },
  {
   "cell_type": "code",
   "execution_count": null,
   "id": "5fc88174",
   "metadata": {},
   "outputs": [],
   "source": []
  },
  {
   "cell_type": "code",
   "execution_count": null,
   "id": "47cdb2e0",
   "metadata": {},
   "outputs": [],
   "source": []
  },
  {
   "cell_type": "code",
   "execution_count": null,
   "id": "d8499697",
   "metadata": {},
   "outputs": [],
   "source": []
  },
  {
   "cell_type": "code",
   "execution_count": null,
   "id": "b3ba4fcd",
   "metadata": {},
   "outputs": [],
   "source": []
  }
 ],
 "metadata": {
  "kernelspec": {
   "display_name": "Python 3 (ipykernel)",
   "language": "python",
   "name": "python3"
  },
  "language_info": {
   "codemirror_mode": {
    "name": "ipython",
    "version": 3
   },
   "file_extension": ".py",
   "mimetype": "text/x-python",
   "name": "python",
   "nbconvert_exporter": "python",
   "pygments_lexer": "ipython3",
   "version": "3.9.12"
  }
 },
 "nbformat": 4,
 "nbformat_minor": 5
}
