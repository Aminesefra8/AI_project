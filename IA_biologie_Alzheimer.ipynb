{
  "cells": [
    {
      "cell_type": "code",
      "execution_count": null,
      "id": "712936b6",
      "metadata": {
        "id": "712936b6"
      },
      "outputs": [],
      "source": [
        "import pandas as pd\n",
        "import seaborn as sns\n",
        "import matplotlib.pyplot as plt\n",
        "import numpy as np\n",
        "from sklearn.model_selection import train_test_split\n",
        "from sklearn import preprocessing\n",
        "from sklearn.preprocessing import MinMaxScaler\n",
        "from sklearn.model_selection import cross_val_score\n",
        "import tensorflow as tf\n",
        "from tensorflow import keras\n",
        "from sklearn.linear_model import LogisticRegression\n",
        "from sklearn.svm import SVC\n",
        "from sklearn.tree import DecisionTreeClassifier\n",
        "from sklearn.ensemble import RandomForestClassifier\n",
        "from sklearn.ensemble import AdaBoostClassifier\n",
        "from sklearn.metrics import confusion_matrix, accuracy_score, recall_score, roc_curve, auc"
      ]
    },
    {
      "cell_type": "markdown",
      "source": [
        "Cette base de données contient plusieurs informations sur 150 patients. Le nombre de patients étant assez bas, il sera difficile à nos modèles d’apprendre correctement, il va donc falloir utiliser des modèles très optimisés, et très sophistiqués pour atteindre de bonnes performances.\n",
        "Pour chaque patient, la base de données nous fournit les informations suivantes : le sexe, l’âge, le niveau d’éducation qui est modélisé par le calcul d’un score, le niveau sociologique qui est également modélisé par un score,\n",
        "le MMSE (c’est un score qui est calculé à partir d’un test cognitif effectué sur les patients, plus le score est bas, plus le risque d’avoir une anomalie cognitive est grand), le CDR (Coefficient de Diffusion Apparente : il se réfère généralement à la mesure des propriétés de diffusion des molécules d’eau dans les tissus biologiques. En neuroimagerie, le CDR peut être utilisé pour évaluer les altérations dans les tissus cérébraux.), eTIV (Estimated Total Intracranial Volume) fait référence à la mesure estimée du volume intracrânien total. Il s’agit du volume total de l’espace à l’intérieur du crâne, qui englobe le cerveau, les liquides cérébrospinaux et autres structures intracrânienne), nWBV (normalized Whole Brain Volume : il se réfère au volume cérébral total normalisé. Il est utilisé pour quantifier la proportion du volume total du cerveau par rapport à la taille total de la boîte crânienne), ASF (Atlas Scaling Factor : c’est un procédé qui permet une mise à l’échelle de l’image par rapport à la taille du cerveau de chaque individu).\n"
      ],
      "metadata": {
        "id": "YXiCvXJsCGkW"
      },
      "id": "YXiCvXJsCGkW"
    },
    {
      "cell_type": "code",
      "execution_count": null,
      "id": "b82b163d",
      "metadata": {
        "id": "b82b163d"
      },
      "outputs": [],
      "source": [
        "data= pd.read_csv(\"Desktop/OASIS_longitudinal.csv\")"
      ]
    },
    {
      "cell_type": "code",
      "execution_count": null,
      "id": "f824ef33",
      "metadata": {
        "id": "f824ef33",
        "outputId": "dfd54b30-aa2e-4efa-e673-cf28a5a1d2e0"
      },
      "outputs": [
        {
          "data": {
            "text/html": [
              "<div>\n",
              "<style scoped>\n",
              "    .dataframe tbody tr th:only-of-type {\n",
              "        vertical-align: middle;\n",
              "    }\n",
              "\n",
              "    .dataframe tbody tr th {\n",
              "        vertical-align: top;\n",
              "    }\n",
              "\n",
              "    .dataframe thead th {\n",
              "        text-align: right;\n",
              "    }\n",
              "</style>\n",
              "<table border=\"1\" class=\"dataframe\">\n",
              "  <thead>\n",
              "    <tr style=\"text-align: right;\">\n",
              "      <th></th>\n",
              "      <th>Subject ID</th>\n",
              "      <th>Group</th>\n",
              "      <th>MR Delay</th>\n",
              "      <th>M/F</th>\n",
              "      <th>Age</th>\n",
              "      <th>EDUC</th>\n",
              "      <th>SES</th>\n",
              "      <th>MMSE</th>\n",
              "      <th>CDR</th>\n",
              "      <th>eTIV</th>\n",
              "      <th>nWBV</th>\n",
              "      <th>ASF</th>\n",
              "    </tr>\n",
              "  </thead>\n",
              "  <tbody>\n",
              "    <tr>\n",
              "      <th>0</th>\n",
              "      <td>OAS2_0001</td>\n",
              "      <td>0</td>\n",
              "      <td>0</td>\n",
              "      <td>1</td>\n",
              "      <td>87</td>\n",
              "      <td>14</td>\n",
              "      <td>2.0</td>\n",
              "      <td>27.0</td>\n",
              "      <td>0.0</td>\n",
              "      <td>1987</td>\n",
              "      <td>0.696</td>\n",
              "      <td>0.883</td>\n",
              "    </tr>\n",
              "    <tr>\n",
              "      <th>1</th>\n",
              "      <td>OAS2_0002</td>\n",
              "      <td>1</td>\n",
              "      <td>0</td>\n",
              "      <td>1</td>\n",
              "      <td>75</td>\n",
              "      <td>12</td>\n",
              "      <td>3.0</td>\n",
              "      <td>23.0</td>\n",
              "      <td>0.5</td>\n",
              "      <td>1678</td>\n",
              "      <td>0.736</td>\n",
              "      <td>1.046</td>\n",
              "    </tr>\n",
              "    <tr>\n",
              "      <th>2</th>\n",
              "      <td>OAS2_0004</td>\n",
              "      <td>0</td>\n",
              "      <td>0</td>\n",
              "      <td>0</td>\n",
              "      <td>88</td>\n",
              "      <td>18</td>\n",
              "      <td>3.0</td>\n",
              "      <td>28.0</td>\n",
              "      <td>0.0</td>\n",
              "      <td>1215</td>\n",
              "      <td>0.710</td>\n",
              "      <td>1.444</td>\n",
              "    </tr>\n",
              "    <tr>\n",
              "      <th>3</th>\n",
              "      <td>OAS2_0005</td>\n",
              "      <td>0</td>\n",
              "      <td>0</td>\n",
              "      <td>1</td>\n",
              "      <td>80</td>\n",
              "      <td>12</td>\n",
              "      <td>4.0</td>\n",
              "      <td>28.0</td>\n",
              "      <td>0.0</td>\n",
              "      <td>1689</td>\n",
              "      <td>0.712</td>\n",
              "      <td>1.039</td>\n",
              "    </tr>\n",
              "    <tr>\n",
              "      <th>4</th>\n",
              "      <td>OAS2_0007</td>\n",
              "      <td>1</td>\n",
              "      <td>0</td>\n",
              "      <td>1</td>\n",
              "      <td>71</td>\n",
              "      <td>16</td>\n",
              "      <td>2.0</td>\n",
              "      <td>28.0</td>\n",
              "      <td>0.5</td>\n",
              "      <td>1357</td>\n",
              "      <td>0.748</td>\n",
              "      <td>1.293</td>\n",
              "    </tr>\n",
              "    <tr>\n",
              "      <th>...</th>\n",
              "      <td>...</td>\n",
              "      <td>...</td>\n",
              "      <td>...</td>\n",
              "      <td>...</td>\n",
              "      <td>...</td>\n",
              "      <td>...</td>\n",
              "      <td>...</td>\n",
              "      <td>...</td>\n",
              "      <td>...</td>\n",
              "      <td>...</td>\n",
              "      <td>...</td>\n",
              "      <td>...</td>\n",
              "    </tr>\n",
              "    <tr>\n",
              "      <th>145</th>\n",
              "      <td>OAS2_0182</td>\n",
              "      <td>1</td>\n",
              "      <td>0</td>\n",
              "      <td>1</td>\n",
              "      <td>73</td>\n",
              "      <td>12</td>\n",
              "      <td>3.0</td>\n",
              "      <td>23.0</td>\n",
              "      <td>0.5</td>\n",
              "      <td>1661</td>\n",
              "      <td>0.698</td>\n",
              "      <td>1.056</td>\n",
              "    </tr>\n",
              "    <tr>\n",
              "      <th>146</th>\n",
              "      <td>OAS2_0183</td>\n",
              "      <td>0</td>\n",
              "      <td>0</td>\n",
              "      <td>0</td>\n",
              "      <td>66</td>\n",
              "      <td>13</td>\n",
              "      <td>2.0</td>\n",
              "      <td>30.0</td>\n",
              "      <td>0.0</td>\n",
              "      <td>1495</td>\n",
              "      <td>0.746</td>\n",
              "      <td>1.174</td>\n",
              "    </tr>\n",
              "    <tr>\n",
              "      <th>147</th>\n",
              "      <td>OAS2_0184</td>\n",
              "      <td>1</td>\n",
              "      <td>0</td>\n",
              "      <td>0</td>\n",
              "      <td>72</td>\n",
              "      <td>16</td>\n",
              "      <td>3.0</td>\n",
              "      <td>24.0</td>\n",
              "      <td>0.5</td>\n",
              "      <td>1354</td>\n",
              "      <td>0.733</td>\n",
              "      <td>1.296</td>\n",
              "    </tr>\n",
              "    <tr>\n",
              "      <th>148</th>\n",
              "      <td>OAS2_0185</td>\n",
              "      <td>1</td>\n",
              "      <td>0</td>\n",
              "      <td>1</td>\n",
              "      <td>80</td>\n",
              "      <td>16</td>\n",
              "      <td>1.0</td>\n",
              "      <td>28.0</td>\n",
              "      <td>0.5</td>\n",
              "      <td>1704</td>\n",
              "      <td>0.711</td>\n",
              "      <td>1.030</td>\n",
              "    </tr>\n",
              "    <tr>\n",
              "      <th>149</th>\n",
              "      <td>OAS2_0186</td>\n",
              "      <td>0</td>\n",
              "      <td>0</td>\n",
              "      <td>0</td>\n",
              "      <td>61</td>\n",
              "      <td>13</td>\n",
              "      <td>2.0</td>\n",
              "      <td>30.0</td>\n",
              "      <td>0.0</td>\n",
              "      <td>1319</td>\n",
              "      <td>0.801</td>\n",
              "      <td>1.331</td>\n",
              "    </tr>\n",
              "  </tbody>\n",
              "</table>\n",
              "<p>150 rows × 12 columns</p>\n",
              "</div>"
            ],
            "text/plain": [
              "    Subject ID  Group  MR Delay  M/F  Age  EDUC  SES  MMSE  CDR  eTIV   nWBV  \\\n",
              "0    OAS2_0001      0         0    1   87    14  2.0  27.0  0.0  1987  0.696   \n",
              "1    OAS2_0002      1         0    1   75    12  3.0  23.0  0.5  1678  0.736   \n",
              "2    OAS2_0004      0         0    0   88    18  3.0  28.0  0.0  1215  0.710   \n",
              "3    OAS2_0005      0         0    1   80    12  4.0  28.0  0.0  1689  0.712   \n",
              "4    OAS2_0007      1         0    1   71    16  2.0  28.0  0.5  1357  0.748   \n",
              "..         ...    ...       ...  ...  ...   ...  ...   ...  ...   ...    ...   \n",
              "145  OAS2_0182      1         0    1   73    12  3.0  23.0  0.5  1661  0.698   \n",
              "146  OAS2_0183      0         0    0   66    13  2.0  30.0  0.0  1495  0.746   \n",
              "147  OAS2_0184      1         0    0   72    16  3.0  24.0  0.5  1354  0.733   \n",
              "148  OAS2_0185      1         0    1   80    16  1.0  28.0  0.5  1704  0.711   \n",
              "149  OAS2_0186      0         0    0   61    13  2.0  30.0  0.0  1319  0.801   \n",
              "\n",
              "       ASF  \n",
              "0    0.883  \n",
              "1    1.046  \n",
              "2    1.444  \n",
              "3    1.039  \n",
              "4    1.293  \n",
              "..     ...  \n",
              "145  1.056  \n",
              "146  1.174  \n",
              "147  1.296  \n",
              "148  1.030  \n",
              "149  1.331  \n",
              "\n",
              "[150 rows x 12 columns]"
            ]
          },
          "execution_count": 59,
          "metadata": {},
          "output_type": "execute_result"
        }
      ],
      "source": [
        "data"
      ]
    },
    {
      "cell_type": "code",
      "execution_count": null,
      "id": "728cea02",
      "metadata": {
        "id": "728cea02",
        "outputId": "ed9a80cd-97a8-43cf-d35a-41ffb685d5e9"
      },
      "outputs": [
        {
          "data": {
            "text/plain": [
              "(150, 12)"
            ]
          },
          "execution_count": 60,
          "metadata": {},
          "output_type": "execute_result"
        }
      ],
      "source": [
        "data.shape"
      ]
    },
    {
      "cell_type": "code",
      "execution_count": null,
      "id": "9d46ad91",
      "metadata": {
        "id": "9d46ad91"
      },
      "outputs": [],
      "source": [
        "data= data[data[\"Visit\"]==1]"
      ]
    },
    {
      "cell_type": "code",
      "execution_count": null,
      "id": "bad75fa8",
      "metadata": {
        "id": "bad75fa8",
        "outputId": "c428a1bb-2e8d-4197-c4f5-02e2c2e3014f"
      },
      "outputs": [
        {
          "data": {
            "text/html": [
              "<div>\n",
              "<style scoped>\n",
              "    .dataframe tbody tr th:only-of-type {\n",
              "        vertical-align: middle;\n",
              "    }\n",
              "\n",
              "    .dataframe tbody tr th {\n",
              "        vertical-align: top;\n",
              "    }\n",
              "\n",
              "    .dataframe thead th {\n",
              "        text-align: right;\n",
              "    }\n",
              "</style>\n",
              "<table border=\"1\" class=\"dataframe\">\n",
              "  <thead>\n",
              "    <tr style=\"text-align: right;\">\n",
              "      <th></th>\n",
              "      <th>Subject ID</th>\n",
              "      <th>MRI ID</th>\n",
              "      <th>Group</th>\n",
              "      <th>Visit</th>\n",
              "      <th>MR Delay</th>\n",
              "      <th>M/F</th>\n",
              "      <th>Hand</th>\n",
              "      <th>Age</th>\n",
              "      <th>EDUC</th>\n",
              "      <th>SES</th>\n",
              "      <th>MMSE</th>\n",
              "      <th>CDR</th>\n",
              "      <th>eTIV</th>\n",
              "      <th>nWBV</th>\n",
              "      <th>ASF</th>\n",
              "    </tr>\n",
              "  </thead>\n",
              "  <tbody>\n",
              "    <tr>\n",
              "      <th>0</th>\n",
              "      <td>OAS2_0001</td>\n",
              "      <td>OAS2_0001_MR1</td>\n",
              "      <td>Nondemented</td>\n",
              "      <td>1</td>\n",
              "      <td>0</td>\n",
              "      <td>M</td>\n",
              "      <td>R</td>\n",
              "      <td>87</td>\n",
              "      <td>14</td>\n",
              "      <td>2.0</td>\n",
              "      <td>27.0</td>\n",
              "      <td>0.0</td>\n",
              "      <td>1987</td>\n",
              "      <td>0.696</td>\n",
              "      <td>0.883</td>\n",
              "    </tr>\n",
              "    <tr>\n",
              "      <th>2</th>\n",
              "      <td>OAS2_0002</td>\n",
              "      <td>OAS2_0002_MR1</td>\n",
              "      <td>Demented</td>\n",
              "      <td>1</td>\n",
              "      <td>0</td>\n",
              "      <td>M</td>\n",
              "      <td>R</td>\n",
              "      <td>75</td>\n",
              "      <td>12</td>\n",
              "      <td>NaN</td>\n",
              "      <td>23.0</td>\n",
              "      <td>0.5</td>\n",
              "      <td>1678</td>\n",
              "      <td>0.736</td>\n",
              "      <td>1.046</td>\n",
              "    </tr>\n",
              "    <tr>\n",
              "      <th>5</th>\n",
              "      <td>OAS2_0004</td>\n",
              "      <td>OAS2_0004_MR1</td>\n",
              "      <td>Nondemented</td>\n",
              "      <td>1</td>\n",
              "      <td>0</td>\n",
              "      <td>F</td>\n",
              "      <td>R</td>\n",
              "      <td>88</td>\n",
              "      <td>18</td>\n",
              "      <td>3.0</td>\n",
              "      <td>28.0</td>\n",
              "      <td>0.0</td>\n",
              "      <td>1215</td>\n",
              "      <td>0.710</td>\n",
              "      <td>1.444</td>\n",
              "    </tr>\n",
              "    <tr>\n",
              "      <th>7</th>\n",
              "      <td>OAS2_0005</td>\n",
              "      <td>OAS2_0005_MR1</td>\n",
              "      <td>Nondemented</td>\n",
              "      <td>1</td>\n",
              "      <td>0</td>\n",
              "      <td>M</td>\n",
              "      <td>R</td>\n",
              "      <td>80</td>\n",
              "      <td>12</td>\n",
              "      <td>4.0</td>\n",
              "      <td>28.0</td>\n",
              "      <td>0.0</td>\n",
              "      <td>1689</td>\n",
              "      <td>0.712</td>\n",
              "      <td>1.039</td>\n",
              "    </tr>\n",
              "    <tr>\n",
              "      <th>10</th>\n",
              "      <td>OAS2_0007</td>\n",
              "      <td>OAS2_0007_MR1</td>\n",
              "      <td>Demented</td>\n",
              "      <td>1</td>\n",
              "      <td>0</td>\n",
              "      <td>M</td>\n",
              "      <td>R</td>\n",
              "      <td>71</td>\n",
              "      <td>16</td>\n",
              "      <td>NaN</td>\n",
              "      <td>28.0</td>\n",
              "      <td>0.5</td>\n",
              "      <td>1357</td>\n",
              "      <td>0.748</td>\n",
              "      <td>1.293</td>\n",
              "    </tr>\n",
              "  </tbody>\n",
              "</table>\n",
              "</div>"
            ],
            "text/plain": [
              "   Subject ID         MRI ID        Group  Visit  MR Delay M/F Hand  Age  \\\n",
              "0   OAS2_0001  OAS2_0001_MR1  Nondemented      1         0   M    R   87   \n",
              "2   OAS2_0002  OAS2_0002_MR1     Demented      1         0   M    R   75   \n",
              "5   OAS2_0004  OAS2_0004_MR1  Nondemented      1         0   F    R   88   \n",
              "7   OAS2_0005  OAS2_0005_MR1  Nondemented      1         0   M    R   80   \n",
              "10  OAS2_0007  OAS2_0007_MR1     Demented      1         0   M    R   71   \n",
              "\n",
              "    EDUC  SES  MMSE  CDR  eTIV   nWBV    ASF  \n",
              "0     14  2.0  27.0  0.0  1987  0.696  0.883  \n",
              "2     12  NaN  23.0  0.5  1678  0.736  1.046  \n",
              "5     18  3.0  28.0  0.0  1215  0.710  1.444  \n",
              "7     12  4.0  28.0  0.0  1689  0.712  1.039  \n",
              "10    16  NaN  28.0  0.5  1357  0.748  1.293  "
            ]
          },
          "execution_count": 6,
          "metadata": {},
          "output_type": "execute_result"
        }
      ],
      "source": [
        "data.head()"
      ]
    },
    {
      "cell_type": "code",
      "execution_count": null,
      "id": "971f2424",
      "metadata": {
        "id": "971f2424"
      },
      "outputs": [],
      "source": [
        "data= data.reset_index(drop= True)"
      ]
    },
    {
      "cell_type": "code",
      "execution_count": null,
      "id": "0ec962d3",
      "metadata": {
        "id": "0ec962d3",
        "outputId": "973fc90b-8e85-408e-cea2-335e7d171759"
      },
      "outputs": [
        {
          "data": {
            "text/html": [
              "<div>\n",
              "<style scoped>\n",
              "    .dataframe tbody tr th:only-of-type {\n",
              "        vertical-align: middle;\n",
              "    }\n",
              "\n",
              "    .dataframe tbody tr th {\n",
              "        vertical-align: top;\n",
              "    }\n",
              "\n",
              "    .dataframe thead th {\n",
              "        text-align: right;\n",
              "    }\n",
              "</style>\n",
              "<table border=\"1\" class=\"dataframe\">\n",
              "  <thead>\n",
              "    <tr style=\"text-align: right;\">\n",
              "      <th></th>\n",
              "      <th>Subject ID</th>\n",
              "      <th>MRI ID</th>\n",
              "      <th>Group</th>\n",
              "      <th>Visit</th>\n",
              "      <th>MR Delay</th>\n",
              "      <th>M/F</th>\n",
              "      <th>Hand</th>\n",
              "      <th>Age</th>\n",
              "      <th>EDUC</th>\n",
              "      <th>SES</th>\n",
              "      <th>MMSE</th>\n",
              "      <th>CDR</th>\n",
              "      <th>eTIV</th>\n",
              "      <th>nWBV</th>\n",
              "      <th>ASF</th>\n",
              "    </tr>\n",
              "  </thead>\n",
              "  <tbody>\n",
              "    <tr>\n",
              "      <th>0</th>\n",
              "      <td>OAS2_0001</td>\n",
              "      <td>OAS2_0001_MR1</td>\n",
              "      <td>Nondemented</td>\n",
              "      <td>1</td>\n",
              "      <td>0</td>\n",
              "      <td>M</td>\n",
              "      <td>R</td>\n",
              "      <td>87</td>\n",
              "      <td>14</td>\n",
              "      <td>2.0</td>\n",
              "      <td>27.0</td>\n",
              "      <td>0.0</td>\n",
              "      <td>1987</td>\n",
              "      <td>0.696</td>\n",
              "      <td>0.883</td>\n",
              "    </tr>\n",
              "    <tr>\n",
              "      <th>1</th>\n",
              "      <td>OAS2_0002</td>\n",
              "      <td>OAS2_0002_MR1</td>\n",
              "      <td>Demented</td>\n",
              "      <td>1</td>\n",
              "      <td>0</td>\n",
              "      <td>M</td>\n",
              "      <td>R</td>\n",
              "      <td>75</td>\n",
              "      <td>12</td>\n",
              "      <td>NaN</td>\n",
              "      <td>23.0</td>\n",
              "      <td>0.5</td>\n",
              "      <td>1678</td>\n",
              "      <td>0.736</td>\n",
              "      <td>1.046</td>\n",
              "    </tr>\n",
              "    <tr>\n",
              "      <th>2</th>\n",
              "      <td>OAS2_0004</td>\n",
              "      <td>OAS2_0004_MR1</td>\n",
              "      <td>Nondemented</td>\n",
              "      <td>1</td>\n",
              "      <td>0</td>\n",
              "      <td>F</td>\n",
              "      <td>R</td>\n",
              "      <td>88</td>\n",
              "      <td>18</td>\n",
              "      <td>3.0</td>\n",
              "      <td>28.0</td>\n",
              "      <td>0.0</td>\n",
              "      <td>1215</td>\n",
              "      <td>0.710</td>\n",
              "      <td>1.444</td>\n",
              "    </tr>\n",
              "    <tr>\n",
              "      <th>3</th>\n",
              "      <td>OAS2_0005</td>\n",
              "      <td>OAS2_0005_MR1</td>\n",
              "      <td>Nondemented</td>\n",
              "      <td>1</td>\n",
              "      <td>0</td>\n",
              "      <td>M</td>\n",
              "      <td>R</td>\n",
              "      <td>80</td>\n",
              "      <td>12</td>\n",
              "      <td>4.0</td>\n",
              "      <td>28.0</td>\n",
              "      <td>0.0</td>\n",
              "      <td>1689</td>\n",
              "      <td>0.712</td>\n",
              "      <td>1.039</td>\n",
              "    </tr>\n",
              "    <tr>\n",
              "      <th>4</th>\n",
              "      <td>OAS2_0007</td>\n",
              "      <td>OAS2_0007_MR1</td>\n",
              "      <td>Demented</td>\n",
              "      <td>1</td>\n",
              "      <td>0</td>\n",
              "      <td>M</td>\n",
              "      <td>R</td>\n",
              "      <td>71</td>\n",
              "      <td>16</td>\n",
              "      <td>NaN</td>\n",
              "      <td>28.0</td>\n",
              "      <td>0.5</td>\n",
              "      <td>1357</td>\n",
              "      <td>0.748</td>\n",
              "      <td>1.293</td>\n",
              "    </tr>\n",
              "  </tbody>\n",
              "</table>\n",
              "</div>"
            ],
            "text/plain": [
              "  Subject ID         MRI ID        Group  Visit  MR Delay M/F Hand  Age  EDUC  \\\n",
              "0  OAS2_0001  OAS2_0001_MR1  Nondemented      1         0   M    R   87    14   \n",
              "1  OAS2_0002  OAS2_0002_MR1     Demented      1         0   M    R   75    12   \n",
              "2  OAS2_0004  OAS2_0004_MR1  Nondemented      1         0   F    R   88    18   \n",
              "3  OAS2_0005  OAS2_0005_MR1  Nondemented      1         0   M    R   80    12   \n",
              "4  OAS2_0007  OAS2_0007_MR1     Demented      1         0   M    R   71    16   \n",
              "\n",
              "   SES  MMSE  CDR  eTIV   nWBV    ASF  \n",
              "0  2.0  27.0  0.0  1987  0.696  0.883  \n",
              "1  NaN  23.0  0.5  1678  0.736  1.046  \n",
              "2  3.0  28.0  0.0  1215  0.710  1.444  \n",
              "3  4.0  28.0  0.0  1689  0.712  1.039  \n",
              "4  NaN  28.0  0.5  1357  0.748  1.293  "
            ]
          },
          "execution_count": 8,
          "metadata": {},
          "output_type": "execute_result"
        }
      ],
      "source": [
        "data.head()"
      ]
    },
    {
      "cell_type": "code",
      "execution_count": null,
      "id": "73467391",
      "metadata": {
        "id": "73467391",
        "outputId": "9633083a-13bb-4ab5-b544-bfc1e70519e7"
      },
      "outputs": [
        {
          "data": {
            "text/plain": [
              "(150, 15)"
            ]
          },
          "execution_count": 9,
          "metadata": {},
          "output_type": "execute_result"
        }
      ],
      "source": [
        "data.shape"
      ]
    },
    {
      "cell_type": "code",
      "execution_count": null,
      "id": "864b5d9a",
      "metadata": {
        "id": "864b5d9a",
        "outputId": "8063a59a-f5bb-49a3-c8b7-66f3a7836dd0"
      },
      "outputs": [
        {
          "data": {
            "text/plain": [
              "Nondemented    72\n",
              "Demented       64\n",
              "Converted      14\n",
              "Name: Group, dtype: int64"
            ]
          },
          "execution_count": 10,
          "metadata": {},
          "output_type": "execute_result"
        }
      ],
      "source": [
        "data[\"Group\"].value_counts()"
      ]
    },
    {
      "cell_type": "code",
      "execution_count": null,
      "id": "b9899376",
      "metadata": {
        "id": "b9899376",
        "outputId": "ac455a3e-1c5a-4bc7-d937-c664af10d1c5"
      },
      "outputs": [
        {
          "data": {
            "text/plain": [
              "F    88\n",
              "M    62\n",
              "Name: M/F, dtype: int64"
            ]
          },
          "execution_count": 11,
          "metadata": {},
          "output_type": "execute_result"
        }
      ],
      "source": [
        "data['M/F'].value_counts()"
      ]
    },
    {
      "cell_type": "code",
      "execution_count": null,
      "id": "e4770741",
      "metadata": {
        "id": "e4770741"
      },
      "outputs": [],
      "source": [
        "data['M/F']= data['M/F'].replace(['F', 'M'], [0,1])\n",
        "data['Group']= data['Group'].replace(['Converted'], ['Demented'])\n",
        "data['Group']= data['Group'].replace(['Demented', 'Nondemented'], [1,0])\n",
        "data = data.drop(['MRI ID', 'Visit', 'Hand'], axis=1)"
      ]
    },
    {
      "cell_type": "code",
      "execution_count": null,
      "id": "ddac5071",
      "metadata": {
        "id": "ddac5071",
        "outputId": "b48954aa-3338-40f6-cc4d-7513f09637a0"
      },
      "outputs": [
        {
          "data": {
            "text/html": [
              "<div>\n",
              "<style scoped>\n",
              "    .dataframe tbody tr th:only-of-type {\n",
              "        vertical-align: middle;\n",
              "    }\n",
              "\n",
              "    .dataframe tbody tr th {\n",
              "        vertical-align: top;\n",
              "    }\n",
              "\n",
              "    .dataframe thead th {\n",
              "        text-align: right;\n",
              "    }\n",
              "</style>\n",
              "<table border=\"1\" class=\"dataframe\">\n",
              "  <thead>\n",
              "    <tr style=\"text-align: right;\">\n",
              "      <th></th>\n",
              "      <th>Subject ID</th>\n",
              "      <th>Group</th>\n",
              "      <th>MR Delay</th>\n",
              "      <th>M/F</th>\n",
              "      <th>Age</th>\n",
              "      <th>EDUC</th>\n",
              "      <th>SES</th>\n",
              "      <th>MMSE</th>\n",
              "      <th>CDR</th>\n",
              "      <th>eTIV</th>\n",
              "      <th>nWBV</th>\n",
              "      <th>ASF</th>\n",
              "    </tr>\n",
              "  </thead>\n",
              "  <tbody>\n",
              "    <tr>\n",
              "      <th>0</th>\n",
              "      <td>OAS2_0001</td>\n",
              "      <td>0</td>\n",
              "      <td>0</td>\n",
              "      <td>1</td>\n",
              "      <td>87</td>\n",
              "      <td>14</td>\n",
              "      <td>2.0</td>\n",
              "      <td>27.0</td>\n",
              "      <td>0.0</td>\n",
              "      <td>1987</td>\n",
              "      <td>0.696</td>\n",
              "      <td>0.883</td>\n",
              "    </tr>\n",
              "    <tr>\n",
              "      <th>1</th>\n",
              "      <td>OAS2_0002</td>\n",
              "      <td>1</td>\n",
              "      <td>0</td>\n",
              "      <td>1</td>\n",
              "      <td>75</td>\n",
              "      <td>12</td>\n",
              "      <td>NaN</td>\n",
              "      <td>23.0</td>\n",
              "      <td>0.5</td>\n",
              "      <td>1678</td>\n",
              "      <td>0.736</td>\n",
              "      <td>1.046</td>\n",
              "    </tr>\n",
              "    <tr>\n",
              "      <th>2</th>\n",
              "      <td>OAS2_0004</td>\n",
              "      <td>0</td>\n",
              "      <td>0</td>\n",
              "      <td>0</td>\n",
              "      <td>88</td>\n",
              "      <td>18</td>\n",
              "      <td>3.0</td>\n",
              "      <td>28.0</td>\n",
              "      <td>0.0</td>\n",
              "      <td>1215</td>\n",
              "      <td>0.710</td>\n",
              "      <td>1.444</td>\n",
              "    </tr>\n",
              "    <tr>\n",
              "      <th>3</th>\n",
              "      <td>OAS2_0005</td>\n",
              "      <td>0</td>\n",
              "      <td>0</td>\n",
              "      <td>1</td>\n",
              "      <td>80</td>\n",
              "      <td>12</td>\n",
              "      <td>4.0</td>\n",
              "      <td>28.0</td>\n",
              "      <td>0.0</td>\n",
              "      <td>1689</td>\n",
              "      <td>0.712</td>\n",
              "      <td>1.039</td>\n",
              "    </tr>\n",
              "    <tr>\n",
              "      <th>4</th>\n",
              "      <td>OAS2_0007</td>\n",
              "      <td>1</td>\n",
              "      <td>0</td>\n",
              "      <td>1</td>\n",
              "      <td>71</td>\n",
              "      <td>16</td>\n",
              "      <td>NaN</td>\n",
              "      <td>28.0</td>\n",
              "      <td>0.5</td>\n",
              "      <td>1357</td>\n",
              "      <td>0.748</td>\n",
              "      <td>1.293</td>\n",
              "    </tr>\n",
              "  </tbody>\n",
              "</table>\n",
              "</div>"
            ],
            "text/plain": [
              "  Subject ID  Group  MR Delay  M/F  Age  EDUC  SES  MMSE  CDR  eTIV   nWBV  \\\n",
              "0  OAS2_0001      0         0    1   87    14  2.0  27.0  0.0  1987  0.696   \n",
              "1  OAS2_0002      1         0    1   75    12  NaN  23.0  0.5  1678  0.736   \n",
              "2  OAS2_0004      0         0    0   88    18  3.0  28.0  0.0  1215  0.710   \n",
              "3  OAS2_0005      0         0    1   80    12  4.0  28.0  0.0  1689  0.712   \n",
              "4  OAS2_0007      1         0    1   71    16  NaN  28.0  0.5  1357  0.748   \n",
              "\n",
              "     ASF  \n",
              "0  0.883  \n",
              "1  1.046  \n",
              "2  1.444  \n",
              "3  1.039  \n",
              "4  1.293  "
            ]
          },
          "execution_count": 13,
          "metadata": {},
          "output_type": "execute_result"
        }
      ],
      "source": [
        "data.head()"
      ]
    },
    {
      "cell_type": "code",
      "execution_count": null,
      "id": "28bd44c6",
      "metadata": {
        "id": "28bd44c6"
      },
      "outputs": [],
      "source": []
    },
    {
      "cell_type": "code",
      "execution_count": null,
      "id": "5caa332b",
      "metadata": {
        "id": "5caa332b"
      },
      "outputs": [],
      "source": [
        "def make_bar(feature):\n",
        "\n",
        "    Demented= data[data['Group']==1][feature].value_counts()\n",
        "    Nondemented= data[data['Group']==0][feature].value_counts()\n",
        "    df_bar= pd.DataFrame([Demented, Nondemented])\n",
        "    df_bar.index= ['Demented', 'Nondemented']\n",
        "    df_bar.plot(kind='bar', stacked=True, figsize=(8,5))\n",
        ""
      ]
    },
    {
      "cell_type": "code",
      "execution_count": null,
      "id": "557c57b9",
      "metadata": {
        "id": "557c57b9",
        "outputId": "881d18d5-89a7-4f65-d4ac-d0e013bc6dd8"
      },
      "outputs": [
        {
          "data": {
            "image/png": "[encoded data removed]",
            "text/plain": [
              "<Figure size 576x360 with 1 Axes>"
            ]
          },
          "metadata": {
            "needs_background": "light"
          },
          "output_type": "display_data"
        }
      ],
      "source": [
        "make_bar('M/F')"
      ]
    },
    {
      "cell_type": "code",
      "execution_count": null,
      "id": "05f5354d",
      "metadata": {
        "id": "05f5354d"
      },
      "outputs": [],
      "source": []
    },
    {
      "cell_type": "code",
      "execution_count": null,
      "id": "81e1dff6",
      "metadata": {
        "id": "81e1dff6",
        "outputId": "c4228d96-f90a-482d-c8cf-9c0131c13c64"
      },
      "outputs": [
        {
          "data": {
            "text/plain": [
              "(15.3, 35.0)"
            ]
          },
          "execution_count": 16,
          "metadata": {},
          "output_type": "execute_result"
        },
        {
          "data": {
            "image/png": "[encoded data removed]",
            "text/plain": [
              "<Figure size 690.375x216 with 1 Axes>"
            ]
          },
          "metadata": {
            "needs_background": "light"
          },
          "output_type": "display_data"
        }
      ],
      "source": [
        "facet= sns.FacetGrid(data, hue=\"Group\", aspect=3)\n",
        "facet.map(sns.kdeplot, 'MMSE', shade= True)\n",
        "facet.set(xlim=(0, data[\"MMSE\"].max()))\n",
        "facet.add_legend()\n",
        "plt.xlim(15.30,35) #Grande diff"
      ]
    },
    {
      "cell_type": "code",
      "execution_count": null,
      "id": "3fb9c65f",
      "metadata": {
        "id": "3fb9c65f",
        "outputId": "4d367c7b-3542-4c70-ad07-3e0bd2d91533"
      },
      "outputs": [
        {
          "data": {
            "text/plain": [
              "(0.5, 2.0)"
            ]
          },
          "execution_count": 17,
          "metadata": {},
          "output_type": "execute_result"
        },
        {
          "data": {
            "image/png": "[encoded data removed]",
            "text/plain": [
              "<Figure size 690.375x216 with 1 Axes>"
            ]
          },
          "metadata": {
            "needs_background": "light"
          },
          "output_type": "display_data"
        }
      ],
      "source": [
        "facet= sns.FacetGrid(data, hue=\"Group\", aspect=3)\n",
        "facet.map(sns.kdeplot, 'ASF', shade= True)\n",
        "facet.set(xlim=(0, data[\"ASF\"].max()))\n",
        "facet.add_legend()\n",
        "plt.xlim(0.5,2)"
      ]
    },
    {
      "cell_type": "code",
      "execution_count": null,
      "id": "2ff4e557",
      "metadata": {
        "id": "2ff4e557",
        "outputId": "033a3785-b42e-4f35-eccb-9ae83d6be630"
      },
      "outputs": [
        {
          "data": {
            "text/plain": [
              "(900.0, 2200.0)"
            ]
          },
          "execution_count": 18,
          "metadata": {},
          "output_type": "execute_result"
        },
        {
          "data": {
            "image/png": "[encoded data removed]",
            "text/plain": [
              "<Figure size 690.375x216 with 1 Axes>"
            ]
          },
          "metadata": {
            "needs_background": "light"
          },
          "output_type": "display_data"
        }
      ],
      "source": [
        "facet= sns.FacetGrid(data, hue=\"Group\", aspect=3)\n",
        "facet.map(sns.kdeplot, 'eTIV', shade= True)\n",
        "facet.set(xlim=(0, data[\"eTIV\"].max()))\n",
        "facet.add_legend()\n",
        "plt.xlim(900,2200)"
      ]
    },
    {
      "cell_type": "code",
      "execution_count": null,
      "id": "66f91529",
      "metadata": {
        "id": "66f91529",
        "outputId": "058f3cb2-5260-4e5a-e010-66445512b506"
      },
      "outputs": [
        {
          "data": {
            "text/plain": [
              "(0.5, 1.0)"
            ]
          },
          "execution_count": 19,
          "metadata": {},
          "output_type": "execute_result"
        },
        {
          "data": {
            "image/png": "[encoded data removed]",
            "text/plain": [
              "<Figure size 690.375x216 with 1 Axes>"
            ]
          },
          "metadata": {
            "needs_background": "light"
          },
          "output_type": "display_data"
        }
      ],
      "source": [
        "facet= sns.FacetGrid(data, hue=\"Group\", aspect=3)\n",
        "facet.map(sns.kdeplot, 'nWBV', shade= True)\n",
        "facet.set(xlim=(0, data[\"nWBV\"].max()))\n",
        "facet.add_legend()\n",
        "plt.xlim(0.5,1)"
      ]
    },
    {
      "cell_type": "code",
      "execution_count": null,
      "id": "debb205b",
      "metadata": {
        "id": "debb205b",
        "outputId": "ecc1060b-7611-44da-f902-7f72a4cc5231"
      },
      "outputs": [
        {
          "data": {
            "text/plain": [
              "(50.0, 110.0)"
            ]
          },
          "execution_count": 20,
          "metadata": {},
          "output_type": "execute_result"
        },
        {
          "data": {
            "image/png": "[encoded data removed]",
            "text/plain": [
              "<Figure size 690.375x216 with 1 Axes>"
            ]
          },
          "metadata": {
            "needs_background": "light"
          },
          "output_type": "display_data"
        }
      ],
      "source": [
        "facet= sns.FacetGrid(data, hue=\"Group\", aspect=3)\n",
        "facet.map(sns.kdeplot, 'Age', shade= True)\n",
        "facet.set(xlim=(0, data[\"Age\"].max()))\n",
        "facet.add_legend()\n",
        "plt.xlim(50,110)"
      ]
    },
    {
      "cell_type": "code",
      "execution_count": null,
      "id": "75319d8c",
      "metadata": {
        "id": "75319d8c",
        "outputId": "006dcad3-0a12-4b28-dd8c-dd4cc7ff29f3"
      },
      "outputs": [
        {
          "data": {
            "text/plain": [
              "(1.0, 30.0)"
            ]
          },
          "execution_count": 21,
          "metadata": {},
          "output_type": "execute_result"
        },
        {
          "data": {
            "image/png": "[encoded data removed]",
            "text/plain": [
              "<Figure size 690.375x216 with 1 Axes>"
            ]
          },
          "metadata": {
            "needs_background": "light"
          },
          "output_type": "display_data"
        }
      ],
      "source": [
        "facet= sns.FacetGrid(data, hue=\"Group\", aspect=3)\n",
        "facet.map(sns.kdeplot, 'EDUC', shade= True)\n",
        "facet.set(xlim=(0, data[\"EDUC\"].max()))\n",
        "facet.add_legend()\n",
        "plt.xlim(1,30)"
      ]
    },
    {
      "cell_type": "code",
      "execution_count": null,
      "id": "e52d1416",
      "metadata": {
        "id": "e52d1416",
        "outputId": "e1678fb8-0d89-456d-8131-d088a2ff349f"
      },
      "outputs": [
        {
          "data": {
            "text/plain": [
              "Subject ID    0\n",
              "Group         0\n",
              "MR Delay      0\n",
              "M/F           0\n",
              "Age           0\n",
              "EDUC          0\n",
              "SES           8\n",
              "MMSE          0\n",
              "CDR           0\n",
              "eTIV          0\n",
              "nWBV          0\n",
              "ASF           0\n",
              "dtype: int64"
            ]
          },
          "execution_count": 22,
          "metadata": {},
          "output_type": "execute_result"
        }
      ],
      "source": [
        "pd.isnull(data).sum()"
      ]
    },
    {
      "cell_type": "code",
      "execution_count": null,
      "id": "5dec221d",
      "metadata": {
        "id": "5dec221d"
      },
      "outputs": [],
      "source": [
        "data_dropna = data.dropna(axis=0, how='any') #on enleve les valeurs manquantes"
      ]
    },
    {
      "cell_type": "code",
      "execution_count": null,
      "id": "b40bb227",
      "metadata": {
        "id": "b40bb227"
      },
      "outputs": [],
      "source": [
        "data_SES= data.groupby(['EDUC'])['SES'].median()"
      ]
    },
    {
      "cell_type": "code",
      "execution_count": null,
      "id": "e0a74f9e",
      "metadata": {
        "id": "e0a74f9e",
        "outputId": "d6658e5b-f522-4afb-9a91-319d86def49f"
      },
      "outputs": [
        {
          "data": {
            "text/plain": [
              "EDUC\n",
              "6     4.0\n",
              "8     5.0\n",
              "11    4.0\n",
              "12    3.0\n",
              "13    2.0\n",
              "14    3.0\n",
              "15    2.0\n",
              "16    2.0\n",
              "17    1.0\n",
              "18    2.0\n",
              "20    1.0\n",
              "23    1.0\n",
              "Name: SES, dtype: float64"
            ]
          },
          "execution_count": 25,
          "metadata": {},
          "output_type": "execute_result"
        }
      ],
      "source": [
        "data_SES #le niveau d'éducation n'a pas un réel impact sur le niveau social (SES)"
      ]
    },
    {
      "cell_type": "code",
      "execution_count": null,
      "id": "50e9c79f",
      "metadata": {
        "id": "50e9c79f"
      },
      "outputs": [],
      "source": [
        "data['SES'].fillna(data.groupby(\"EDUC\")['SES'].transform(\"median\"), inplace= True)"
      ]
    },
    {
      "cell_type": "code",
      "execution_count": null,
      "id": "80dbd6ea",
      "metadata": {
        "id": "80dbd6ea"
      },
      "outputs": [],
      "source": [
        "y= data['Group'].values #la méthode values permet de transformer le dataframe en array\n",
        "                        #pour appliquer des modèles"
      ]
    },
    {
      "cell_type": "code",
      "execution_count": null,
      "id": "807b2b4d",
      "metadata": {
        "id": "807b2b4d",
        "outputId": "ceebf543-5b23-40ef-ec2d-f6b4d9f5da45"
      },
      "outputs": [
        {
          "data": {
            "text/plain": [
              "array([0, 1, 0, 0, 1, 0, 1, 1, 0, 0, 1, 1, 0, 1, 1, 1, 0, 1, 1, 0, 1, 0,\n",
              "       0, 1, 1, 0, 0, 0, 1, 1, 1, 1, 0, 1, 1, 0, 1, 0, 1, 0, 1, 0, 0, 0,\n",
              "       1, 0, 0, 0, 1, 1, 0, 0, 1, 1, 1, 0, 0, 0, 0, 1, 0, 1, 0, 0, 0, 1,\n",
              "       1, 1, 0, 0, 1, 1, 1, 0, 0, 1, 0, 0, 0, 0, 1, 1, 0, 0, 1, 1, 1, 0,\n",
              "       1, 1, 0, 1, 1, 1, 1, 1, 0, 1, 0, 1, 0, 0, 1, 0, 1, 0, 0, 1, 1, 1,\n",
              "       0, 1, 0, 1, 1, 0, 0, 0, 1, 1, 1, 0, 0, 1, 0, 0, 0, 1, 0, 1, 1, 0,\n",
              "       1, 1, 1, 0, 0, 1, 0, 1, 1, 0, 0, 1, 1, 1, 0, 1, 1, 0])"
            ]
          },
          "execution_count": 28,
          "metadata": {},
          "output_type": "execute_result"
        }
      ],
      "source": [
        "y"
      ]
    },
    {
      "cell_type": "code",
      "execution_count": null,
      "id": "31a46342",
      "metadata": {
        "id": "31a46342"
      },
      "outputs": [],
      "source": [
        "X = data[['M/F', 'Age', 'EDUC', 'SES', 'MMSE', 'eTIV', 'nWBV', 'ASF']]"
      ]
    },
    {
      "cell_type": "code",
      "execution_count": null,
      "id": "1068789e",
      "metadata": {
        "id": "1068789e"
      },
      "outputs": [],
      "source": [
        "X_train, X_test, y_train, y_test = train_test_split(\n",
        "    X, y, random_state=0)"
      ]
    },
    {
      "cell_type": "code",
      "execution_count": null,
      "id": "1adf1d71",
      "metadata": {
        "id": "1adf1d71",
        "outputId": "e8477a10-b340-49dd-fd57-e56328bae5cc"
      },
      "outputs": [
        {
          "data": {
            "text/html": [
              "<div>\n",
              "<style scoped>\n",
              "    .dataframe tbody tr th:only-of-type {\n",
              "        vertical-align: middle;\n",
              "    }\n",
              "\n",
              "    .dataframe tbody tr th {\n",
              "        vertical-align: top;\n",
              "    }\n",
              "\n",
              "    .dataframe thead th {\n",
              "        text-align: right;\n",
              "    }\n",
              "</style>\n",
              "<table border=\"1\" class=\"dataframe\">\n",
              "  <thead>\n",
              "    <tr style=\"text-align: right;\">\n",
              "      <th></th>\n",
              "      <th>M/F</th>\n",
              "      <th>Age</th>\n",
              "      <th>EDUC</th>\n",
              "      <th>SES</th>\n",
              "      <th>MMSE</th>\n",
              "      <th>eTIV</th>\n",
              "      <th>nWBV</th>\n",
              "      <th>ASF</th>\n",
              "    </tr>\n",
              "  </thead>\n",
              "  <tbody>\n",
              "    <tr>\n",
              "      <th>61</th>\n",
              "      <td>0</td>\n",
              "      <td>73</td>\n",
              "      <td>8</td>\n",
              "      <td>5.0</td>\n",
              "      <td>25.0</td>\n",
              "      <td>1151</td>\n",
              "      <td>0.743</td>\n",
              "      <td>1.525</td>\n",
              "    </tr>\n",
              "    <tr>\n",
              "      <th>92</th>\n",
              "      <td>0</td>\n",
              "      <td>76</td>\n",
              "      <td>12</td>\n",
              "      <td>3.0</td>\n",
              "      <td>27.0</td>\n",
              "      <td>1315</td>\n",
              "      <td>0.698</td>\n",
              "      <td>1.335</td>\n",
              "    </tr>\n",
              "    <tr>\n",
              "      <th>112</th>\n",
              "      <td>0</td>\n",
              "      <td>73</td>\n",
              "      <td>16</td>\n",
              "      <td>2.0</td>\n",
              "      <td>29.0</td>\n",
              "      <td>1123</td>\n",
              "      <td>0.786</td>\n",
              "      <td>1.563</td>\n",
              "    </tr>\n",
              "    <tr>\n",
              "      <th>2</th>\n",
              "      <td>0</td>\n",
              "      <td>88</td>\n",
              "      <td>18</td>\n",
              "      <td>3.0</td>\n",
              "      <td>28.0</td>\n",
              "      <td>1215</td>\n",
              "      <td>0.710</td>\n",
              "      <td>1.444</td>\n",
              "    </tr>\n",
              "    <tr>\n",
              "      <th>141</th>\n",
              "      <td>1</td>\n",
              "      <td>68</td>\n",
              "      <td>14</td>\n",
              "      <td>3.0</td>\n",
              "      <td>26.0</td>\n",
              "      <td>1444</td>\n",
              "      <td>0.778</td>\n",
              "      <td>1.216</td>\n",
              "    </tr>\n",
              "  </tbody>\n",
              "</table>\n",
              "</div>"
            ],
            "text/plain": [
              "     M/F  Age  EDUC  SES  MMSE  eTIV   nWBV    ASF\n",
              "61     0   73     8  5.0  25.0  1151  0.743  1.525\n",
              "92     0   76    12  3.0  27.0  1315  0.698  1.335\n",
              "112    0   73    16  2.0  29.0  1123  0.786  1.563\n",
              "2      0   88    18  3.0  28.0  1215  0.710  1.444\n",
              "141    1   68    14  3.0  26.0  1444  0.778  1.216"
            ]
          },
          "execution_count": 31,
          "metadata": {},
          "output_type": "execute_result"
        }
      ],
      "source": [
        "X_train.head()"
      ]
    },
    {
      "cell_type": "code",
      "execution_count": null,
      "id": "c5de957b",
      "metadata": {
        "id": "c5de957b"
      },
      "outputs": [],
      "source": [
        "# Feature scaling\n",
        "scaler = MinMaxScaler().fit(X_train)\n",
        "X_train_scaled = scaler.transform(X_train)\n",
        "X_test_scaled = scaler.transform(X_test)"
      ]
    },
    {
      "cell_type": "code",
      "execution_count": null,
      "id": "00549c1a",
      "metadata": {
        "id": "00549c1a",
        "outputId": "57dba923-64dd-4ce4-d8d7-c87213b82d49"
      },
      "outputs": [
        {
          "data": {
            "text/plain": [
              "(112, 8)"
            ]
          },
          "execution_count": 33,
          "metadata": {},
          "output_type": "execute_result"
        }
      ],
      "source": [
        "X_train_scaled.shape"
      ]
    },
    {
      "cell_type": "markdown",
      "id": "4b627e06",
      "metadata": {
        "id": "4b627e06"
      },
      "source": [
        "## Régression logistique régularisée"
      ]
    },
    {
      "cell_type": "code",
      "execution_count": null,
      "id": "4194d8e3",
      "metadata": {
        "id": "4194d8e3",
        "outputId": "343699ad-875a-41cc-f36e-b06593e6ebe5"
      },
      "outputs": [
        {
          "name": "stderr",
          "output_type": "stream",
          "text": [
            "/opt/anaconda3/lib/python3.9/site-packages/sklearn/linear_model/_logistic.py:814: ConvergenceWarning: lbfgs failed to converge (status=1):\n",
            "STOP: TOTAL NO. of ITERATIONS REACHED LIMIT.\n",
            "\n",
            "Increase the number of iterations (max_iter) or scale the data as shown in:\n",
            "    https://scikit-learn.org/stable/modules/preprocessing.html\n",
            "Please also refer to the documentation for alternative solver options:\n",
            "    https://scikit-learn.org/stable/modules/linear_model.html#logistic-regression\n",
            "  n_iter_i = _check_optimize_result(\n",
            "/opt/anaconda3/lib/python3.9/site-packages/sklearn/linear_model/_logistic.py:814: ConvergenceWarning: lbfgs failed to converge (status=1):\n",
            "STOP: TOTAL NO. of ITERATIONS REACHED LIMIT.\n",
            "\n",
            "Increase the number of iterations (max_iter) or scale the data as shown in:\n",
            "    https://scikit-learn.org/stable/modules/preprocessing.html\n",
            "Please also refer to the documentation for alternative solver options:\n",
            "    https://scikit-learn.org/stable/modules/linear_model.html#logistic-regression\n",
            "  n_iter_i = _check_optimize_result(\n",
            "/opt/anaconda3/lib/python3.9/site-packages/sklearn/linear_model/_logistic.py:814: ConvergenceWarning: lbfgs failed to converge (status=1):\n",
            "STOP: TOTAL NO. of ITERATIONS REACHED LIMIT.\n",
            "\n",
            "Increase the number of iterations (max_iter) or scale the data as shown in:\n",
            "    https://scikit-learn.org/stable/modules/preprocessing.html\n",
            "Please also refer to the documentation for alternative solver options:\n",
            "    https://scikit-learn.org/stable/modules/linear_model.html#logistic-regression\n",
            "  n_iter_i = _check_optimize_result(\n",
            "/opt/anaconda3/lib/python3.9/site-packages/sklearn/linear_model/_logistic.py:814: ConvergenceWarning: lbfgs failed to converge (status=1):\n",
            "STOP: TOTAL NO. of ITERATIONS REACHED LIMIT.\n",
            "\n",
            "Increase the number of iterations (max_iter) or scale the data as shown in:\n",
            "    https://scikit-learn.org/stable/modules/preprocessing.html\n",
            "Please also refer to the documentation for alternative solver options:\n",
            "    https://scikit-learn.org/stable/modules/linear_model.html#logistic-regression\n",
            "  n_iter_i = _check_optimize_result(\n",
            "/opt/anaconda3/lib/python3.9/site-packages/sklearn/linear_model/_logistic.py:814: ConvergenceWarning: lbfgs failed to converge (status=1):\n",
            "STOP: TOTAL NO. of ITERATIONS REACHED LIMIT.\n",
            "\n",
            "Increase the number of iterations (max_iter) or scale the data as shown in:\n",
            "    https://scikit-learn.org/stable/modules/preprocessing.html\n",
            "Please also refer to the documentation for alternative solver options:\n",
            "    https://scikit-learn.org/stable/modules/linear_model.html#logistic-regression\n",
            "  n_iter_i = _check_optimize_result(\n",
            "/opt/anaconda3/lib/python3.9/site-packages/sklearn/linear_model/_logistic.py:814: ConvergenceWarning: lbfgs failed to converge (status=1):\n",
            "STOP: TOTAL NO. of ITERATIONS REACHED LIMIT.\n",
            "\n",
            "Increase the number of iterations (max_iter) or scale the data as shown in:\n",
            "    https://scikit-learn.org/stable/modules/preprocessing.html\n",
            "Please also refer to the documentation for alternative solver options:\n",
            "    https://scikit-learn.org/stable/modules/linear_model.html#logistic-regression\n",
            "  n_iter_i = _check_optimize_result(\n",
            "/opt/anaconda3/lib/python3.9/site-packages/sklearn/linear_model/_logistic.py:814: ConvergenceWarning: lbfgs failed to converge (status=1):\n",
            "STOP: TOTAL NO. of ITERATIONS REACHED LIMIT.\n",
            "\n",
            "Increase the number of iterations (max_iter) or scale the data as shown in:\n",
            "    https://scikit-learn.org/stable/modules/preprocessing.html\n",
            "Please also refer to the documentation for alternative solver options:\n",
            "    https://scikit-learn.org/stable/modules/linear_model.html#logistic-regression\n",
            "  n_iter_i = _check_optimize_result(\n",
            "/opt/anaconda3/lib/python3.9/site-packages/sklearn/linear_model/_logistic.py:814: ConvergenceWarning: lbfgs failed to converge (status=1):\n",
            "STOP: TOTAL NO. of ITERATIONS REACHED LIMIT.\n",
            "\n",
            "Increase the number of iterations (max_iter) or scale the data as shown in:\n",
            "    https://scikit-learn.org/stable/modules/preprocessing.html\n",
            "Please also refer to the documentation for alternative solver options:\n",
            "    https://scikit-learn.org/stable/modules/linear_model.html#logistic-regression\n",
            "  n_iter_i = _check_optimize_result(\n",
            "/opt/anaconda3/lib/python3.9/site-packages/sklearn/linear_model/_logistic.py:814: ConvergenceWarning: lbfgs failed to converge (status=1):\n",
            "STOP: TOTAL NO. of ITERATIONS REACHED LIMIT.\n",
            "\n",
            "Increase the number of iterations (max_iter) or scale the data as shown in:\n",
            "    https://scikit-learn.org/stable/modules/preprocessing.html\n",
            "Please also refer to the documentation for alternative solver options:\n",
            "    https://scikit-learn.org/stable/modules/linear_model.html#logistic-regression\n",
            "  n_iter_i = _check_optimize_result(\n",
            "/opt/anaconda3/lib/python3.9/site-packages/sklearn/linear_model/_logistic.py:814: ConvergenceWarning: lbfgs failed to converge (status=1):\n",
            "STOP: TOTAL NO. of ITERATIONS REACHED LIMIT.\n",
            "\n",
            "Increase the number of iterations (max_iter) or scale the data as shown in:\n",
            "    https://scikit-learn.org/stable/modules/preprocessing.html\n",
            "Please also refer to the documentation for alternative solver options:\n",
            "    https://scikit-learn.org/stable/modules/linear_model.html#logistic-regression\n",
            "  n_iter_i = _check_optimize_result(\n",
            "/opt/anaconda3/lib/python3.9/site-packages/sklearn/linear_model/_logistic.py:814: ConvergenceWarning: lbfgs failed to converge (status=1):\n",
            "STOP: TOTAL NO. of ITERATIONS REACHED LIMIT.\n",
            "\n",
            "Increase the number of iterations (max_iter) or scale the data as shown in:\n",
            "    https://scikit-learn.org/stable/modules/preprocessing.html\n",
            "Please also refer to the documentation for alternative solver options:\n",
            "    https://scikit-learn.org/stable/modules/linear_model.html#logistic-regression\n",
            "  n_iter_i = _check_optimize_result(\n",
            "/opt/anaconda3/lib/python3.9/site-packages/sklearn/linear_model/_logistic.py:814: ConvergenceWarning: lbfgs failed to converge (status=1):\n",
            "STOP: TOTAL NO. of ITERATIONS REACHED LIMIT.\n",
            "\n",
            "Increase the number of iterations (max_iter) or scale the data as shown in:\n",
            "    https://scikit-learn.org/stable/modules/preprocessing.html\n",
            "Please also refer to the documentation for alternative solver options:\n",
            "    https://scikit-learn.org/stable/modules/linear_model.html#logistic-regression\n",
            "  n_iter_i = _check_optimize_result(\n",
            "/opt/anaconda3/lib/python3.9/site-packages/sklearn/linear_model/_logistic.py:814: ConvergenceWarning: lbfgs failed to converge (status=1):\n",
            "STOP: TOTAL NO. of ITERATIONS REACHED LIMIT.\n",
            "\n",
            "Increase the number of iterations (max_iter) or scale the data as shown in:\n",
            "    https://scikit-learn.org/stable/modules/preprocessing.html\n",
            "Please also refer to the documentation for alternative solver options:\n",
            "    https://scikit-learn.org/stable/modules/linear_model.html#logistic-regression\n",
            "  n_iter_i = _check_optimize_result(\n",
            "/opt/anaconda3/lib/python3.9/site-packages/sklearn/linear_model/_logistic.py:814: ConvergenceWarning: lbfgs failed to converge (status=1):\n",
            "STOP: TOTAL NO. of ITERATIONS REACHED LIMIT.\n",
            "\n",
            "Increase the number of iterations (max_iter) or scale the data as shown in:\n",
            "    https://scikit-learn.org/stable/modules/preprocessing.html\n",
            "Please also refer to the documentation for alternative solver options:\n",
            "    https://scikit-learn.org/stable/modules/linear_model.html#logistic-regression\n",
            "  n_iter_i = _check_optimize_result(\n",
            "/opt/anaconda3/lib/python3.9/site-packages/sklearn/linear_model/_logistic.py:814: ConvergenceWarning: lbfgs failed to converge (status=1):\n",
            "STOP: TOTAL NO. of ITERATIONS REACHED LIMIT.\n",
            "\n",
            "Increase the number of iterations (max_iter) or scale the data as shown in:\n",
            "    https://scikit-learn.org/stable/modules/preprocessing.html\n",
            "Please also refer to the documentation for alternative solver options:\n",
            "    https://scikit-learn.org/stable/modules/linear_model.html#logistic-regression\n",
            "  n_iter_i = _check_optimize_result(\n",
            "/opt/anaconda3/lib/python3.9/site-packages/sklearn/linear_model/_logistic.py:814: ConvergenceWarning: lbfgs failed to converge (status=1):\n",
            "STOP: TOTAL NO. of ITERATIONS REACHED LIMIT.\n",
            "\n",
            "Increase the number of iterations (max_iter) or scale the data as shown in:\n",
            "    https://scikit-learn.org/stable/modules/preprocessing.html\n",
            "Please also refer to the documentation for alternative solver options:\n",
            "    https://scikit-learn.org/stable/modules/linear_model.html#logistic-regression\n",
            "  n_iter_i = _check_optimize_result(\n",
            "/opt/anaconda3/lib/python3.9/site-packages/sklearn/linear_model/_logistic.py:814: ConvergenceWarning: lbfgs failed to converge (status=1):\n",
            "STOP: TOTAL NO. of ITERATIONS REACHED LIMIT.\n",
            "\n",
            "Increase the number of iterations (max_iter) or scale the data as shown in:\n",
            "    https://scikit-learn.org/stable/modules/preprocessing.html\n",
            "Please also refer to the documentation for alternative solver options:\n",
            "    https://scikit-learn.org/stable/modules/linear_model.html#logistic-regression\n",
            "  n_iter_i = _check_optimize_result(\n",
            "/opt/anaconda3/lib/python3.9/site-packages/sklearn/linear_model/_logistic.py:814: ConvergenceWarning: lbfgs failed to converge (status=1):\n",
            "STOP: TOTAL NO. of ITERATIONS REACHED LIMIT.\n",
            "\n",
            "Increase the number of iterations (max_iter) or scale the data as shown in:\n",
            "    https://scikit-learn.org/stable/modules/preprocessing.html\n",
            "Please also refer to the documentation for alternative solver options:\n",
            "    https://scikit-learn.org/stable/modules/linear_model.html#logistic-regression\n",
            "  n_iter_i = _check_optimize_result(\n",
            "/opt/anaconda3/lib/python3.9/site-packages/sklearn/linear_model/_logistic.py:814: ConvergenceWarning: lbfgs failed to converge (status=1):\n",
            "STOP: TOTAL NO. of ITERATIONS REACHED LIMIT.\n",
            "\n",
            "Increase the number of iterations (max_iter) or scale the data as shown in:\n",
            "    https://scikit-learn.org/stable/modules/preprocessing.html\n",
            "Please also refer to the documentation for alternative solver options:\n",
            "    https://scikit-learn.org/stable/modules/linear_model.html#logistic-regression\n",
            "  n_iter_i = _check_optimize_result(\n"
          ]
        },
        {
          "name": "stdout",
          "output_type": "stream",
          "text": [
            "L'accuracy du train set est de 0.7589285714285714\n",
            "L'accuracy du test set est de 0.7631578947368421\n",
            "Le meilleur paramètre de régularisation est 10\n",
            "La sensibilité du test (taux de vrais positifs parmi tous les positifs est de 0.7\n",
            "L'AUC est de 0.8333333333333335\n"
          ]
        },
        {
          "name": "stderr",
          "output_type": "stream",
          "text": [
            "/opt/anaconda3/lib/python3.9/site-packages/sklearn/linear_model/_logistic.py:814: ConvergenceWarning: lbfgs failed to converge (status=1):\n",
            "STOP: TOTAL NO. of ITERATIONS REACHED LIMIT.\n",
            "\n",
            "Increase the number of iterations (max_iter) or scale the data as shown in:\n",
            "    https://scikit-learn.org/stable/modules/preprocessing.html\n",
            "Please also refer to the documentation for alternative solver options:\n",
            "    https://scikit-learn.org/stable/modules/linear_model.html#logistic-regression\n",
            "  n_iter_i = _check_optimize_result(\n",
            "/opt/anaconda3/lib/python3.9/site-packages/sklearn/linear_model/_logistic.py:814: ConvergenceWarning: lbfgs failed to converge (status=1):\n",
            "STOP: TOTAL NO. of ITERATIONS REACHED LIMIT.\n",
            "\n",
            "Increase the number of iterations (max_iter) or scale the data as shown in:\n",
            "    https://scikit-learn.org/stable/modules/preprocessing.html\n",
            "Please also refer to the documentation for alternative solver options:\n",
            "    https://scikit-learn.org/stable/modules/linear_model.html#logistic-regression\n",
            "  n_iter_i = _check_optimize_result(\n",
            "/opt/anaconda3/lib/python3.9/site-packages/sklearn/linear_model/_logistic.py:814: ConvergenceWarning: lbfgs failed to converge (status=1):\n",
            "STOP: TOTAL NO. of ITERATIONS REACHED LIMIT.\n",
            "\n",
            "Increase the number of iterations (max_iter) or scale the data as shown in:\n",
            "    https://scikit-learn.org/stable/modules/preprocessing.html\n",
            "Please also refer to the documentation for alternative solver options:\n",
            "    https://scikit-learn.org/stable/modules/linear_model.html#logistic-regression\n",
            "  n_iter_i = _check_optimize_result(\n"
          ]
        },
        {
          "data": {
            "text/plain": [
              "[<matplotlib.lines.Line2D at 0x7faf1e711070>]"
            ]
          },
          "execution_count": 39,
          "metadata": {},
          "output_type": "execute_result"
        },
        {
          "data": {
            "image/png": "[encoded data removed]",
            "text/plain": [
              "<Figure size 432x288 with 1 Axes>"
            ]
          },
          "metadata": {
            "needs_background": "light"
          },
          "output_type": "display_data"
        }
      ],
      "source": [
        "best_score= 0\n",
        "k_folds=5\n",
        "\n",
        "for c in [0.001, 0.1, 1, 10, 100]:\n",
        "\n",
        "    logRegModel= LogisticRegression(C=c)\n",
        "    scores= cross_val_score(logRegModel, X_train, y_train, cv=k_folds, scoring= 'accuracy')\n",
        "    score= np.mean(scores)\n",
        "\n",
        "    if score > best_score:\n",
        "\n",
        "        best_score= score\n",
        "        best_parameter= c\n",
        "\n",
        "Selected_Log_reg= LogisticRegression(C= best_parameter)\n",
        "Selected_Log_reg.fit(X_train_scaled, y_train)\n",
        "test_score= Selected_Log_reg.score(X_test_scaled, y_test)\n",
        "Predicted_Output_test= Selected_Log_reg.predict(X_test_scaled)\n",
        "test_recall= recall_score(y_test, Predicted_Output_test, pos_label=1)\n",
        "Predicted_prob_test= Selected_Log_reg.predict_proba(X_test_scaled)\n",
        "fpr, tpr, thresholds= roc_curve(y_test, Predicted_prob_test[:,1])\n",
        "test_auc= auc(fpr, tpr)\n",
        "\n",
        "\n",
        "print(\"L'accuracy du train set est de\", Selected_Log_reg.score(X_train_scaled, y_train))\n",
        "print(\"L'accuracy du test set est de\", test_score)\n",
        "print(\"Le meilleur paramètre de régularisation est\", best_parameter)\n",
        "print(\"La sensibilité du test (taux de vrais positifs parmi tous les positifs est de\", test_recall)\n",
        "print(\"L'AUC est de\", test_auc)\n",
        "plt.plot(fpr, tpr)"
      ]
    },
    {
      "cell_type": "markdown",
      "id": "1635cfb4",
      "metadata": {
        "id": "1635cfb4"
      },
      "source": [
        "## SVM (Support Vector Machine)"
      ]
    },
    {
      "cell_type": "code",
      "execution_count": null,
      "id": "76ebfca5",
      "metadata": {
        "id": "76ebfca5",
        "outputId": "3282a466-b9f1-4d5c-d09d-ce52e2062ad6"
      },
      "outputs": [
        {
          "name": "stdout",
          "output_type": "stream",
          "text": [
            "Meilleur paramètre c:  100\n",
            "Meilleur paramètre gamma 0.1\n",
            "Meilleur paramètre kernel:  rbf\n",
            "Test accuracy:  0.8157894736842105\n",
            "Valeur de la sensitivité: 0.7\n",
            "Valeur de l'AUC 0.8222222222222222\n"
          ]
        }
      ],
      "source": [
        "best_score= 0\n",
        "k_folds=5\n",
        "\n",
        "for c_parameter in [0.001, 0.01, 0.1, 1, 10, 100, 1000]:\n",
        "    for gamma_parameter in [0.001, 0.01, 0.1, 1, 10, 100, 1000]:\n",
        "        for kernel_parameter in ['rbf', 'linear', 'poly', 'sigmoid']:\n",
        "            svmModel= SVC(kernel=kernel_parameter, C= c_parameter, gamma= gamma_parameter)\n",
        "\n",
        "            scores= cross_val_score(svmModel, X_train_scaled, y_train, cv= k_folds, scoring= 'accuracy')\n",
        "            score= np.mean(scores)\n",
        "\n",
        "            if score > best_score:\n",
        "\n",
        "                best_score= score\n",
        "                best_parameter_c= c_parameter\n",
        "                best_parameter_gamma= gamma_parameter\n",
        "                best_parameter_kernel= kernel_parameter\n",
        "\n",
        "\n",
        "SelectedSVMmodel= SVC(C= best_parameter_c, gamma= best_parameter_gamma, kernel= best_parameter_kernel, probability= True).fit(X_train_scaled, y_train)\n",
        "\n",
        "test_score= SelectedSVMmodel.score(X_test_scaled, y_test)\n",
        "PredictedOutput= SelectedSVMmodel.predict(X_test_scaled)\n",
        "test_recall= recall_score(y_test, PredictedOutput, pos_label=1)\n",
        "PredictedOutput_proba= SelectedSVMmodel.predict_proba(X_test_scaled)\n",
        "fpr, tpr, thresholds= roc_curve(y_test, PredictedOutput_proba[:,1])\n",
        "test_auc= auc(fpr, tpr)\n",
        "\n",
        "print(\"Meilleur paramètre c: \", best_parameter_c)\n",
        "print( \"Meilleur paramètre gamma\", best_parameter_gamma)\n",
        "print(\"Meilleur paramètre kernel: \", best_parameter_kernel)\n",
        "print(\"Test accuracy: \", test_score)\n",
        "print(\"Valeur de la sensitivité:\", test_recall)\n",
        "print(\"Valeur de l'AUC\", test_auc)\n"
      ]
    },
    {
      "cell_type": "markdown",
      "id": "6e5a278b",
      "metadata": {
        "id": "6e5a278b"
      },
      "source": [
        "## Decision tree"
      ]
    },
    {
      "cell_type": "code",
      "execution_count": null,
      "id": "6750821e",
      "metadata": {
        "id": "6750821e",
        "outputId": "3ecc9394-ab3d-4c0f-cf28-f3bb4ecb0faf"
      },
      "outputs": [
        {
          "name": "stdout",
          "output_type": "stream",
          "text": [
            "Meilleur paramètre pour max_depth : 1\n",
            "Test accuracy:  0.8157894736842105\n",
            "Sensitivité : 0.65\n",
            "AUC : 0.825\n"
          ]
        }
      ],
      "source": [
        "best_score= 0\n",
        "k_folds=5\n",
        "\n",
        "for md in range(1,9):\n",
        "\n",
        "    treeModel= DecisionTreeClassifier(random_state=0, max_depth= md, criterion= 'gini')\n",
        "\n",
        "    scores= cross_val_score(treeModel, X_train_scaled, y_train, cv= k_folds, scoring= \"accuracy\")\n",
        "    score= np.mean(scores)\n",
        "\n",
        "    if score > best_score:\n",
        "\n",
        "        best_score= score\n",
        "        best_parameter= md\n",
        "\n",
        "Selected_DT_model= DecisionTreeClassifier(max_depth= best_parameter).fit(X_train_scaled, y_train)\n",
        "\n",
        "test_score= Selected_DT_model.score(X_test_scaled, y_test)\n",
        "PredictedOutput= Selected_DT_model.predict(X_test_scaled)\n",
        "test_recall= recall_score(y_test, PredictedOutput, pos_label=1)\n",
        "PredictedOutput_proba= Selected_DT_model.predict_proba(X_test_scaled)\n",
        "fpr, tpr, thresholds = roc_curve(y_test, PredictedOutput_proba[:,1], pos_label=1)\n",
        "test_auc= auc(fpr, tpr)\n",
        "\n",
        "print(\"Meilleur paramètre pour max_depth :\", best_parameter)\n",
        "print(\"Test accuracy: \", test_score)\n",
        "print(\"Sensitivité :\", test_recall)\n",
        "print(\"AUC :\", test_auc)"
      ]
    },
    {
      "cell_type": "markdown",
      "id": "48505614",
      "metadata": {
        "id": "48505614"
      },
      "source": [
        "## Random Forest"
      ]
    },
    {
      "cell_type": "code",
      "execution_count": null,
      "id": "a2b1dcd7",
      "metadata": {
        "id": "a2b1dcd7",
        "outputId": "901b0386-918c-41cd-c4aa-ab8386e7b398"
      },
      "outputs": [
        {
          "name": "stdout",
          "output_type": "stream",
          "text": [
            "Best parameters of M, d, m are:  2 5 7\n",
            "Test accuracy : 0.7631578947368421\n",
            "Sensitivité : 0.7\n",
            "AUC: 0.8527777777777779\n"
          ]
        }
      ],
      "source": [
        "best_score= 0\n",
        "k_folds=5\n",
        "\n",
        "for M in range(2,15,2):\n",
        "    for d in range(1,9):\n",
        "        for m in range(1,9):\n",
        "\n",
        "            forestModel= RandomForestClassifier(n_estimators=M, max_features= d, n_jobs= 4, max_depth=m, random_state=0)\n",
        "\n",
        "            scores= cross_val_score(forestModel, X_train_scaled, y_train, cv= k_folds, scoring= 'accuracy')\n",
        "\n",
        "            score= np.mean(scores)\n",
        "\n",
        "            if score > best_score:\n",
        "\n",
        "                best_score= score\n",
        "                best_M= M\n",
        "                best_d= d\n",
        "                best_m=m\n",
        "\n",
        "SelectedRFModel = RandomForestClassifier(n_estimators=best_M, max_features=best_d,\n",
        "                                          max_depth= best_m, random_state=0).fit(X_train_scaled, y_train)\n",
        "\n",
        "\n",
        "PredictedOutput = SelectedRFModel.predict(X_test_scaled)\n",
        "test_score = SelectedRFModel.score(X_test_scaled, y_test)\n",
        "test_recall = recall_score(y_test, PredictedOutput, pos_label=1)\n",
        "PredictedOutput_proba= SelectedRFModel.predict_proba(X_test_scaled)\n",
        "fpr, tpr, thresholds = roc_curve(y_test, PredictedOutput_proba[:,1], pos_label=1)\n",
        "test_auc= auc(fpr, tpr)\n",
        "\n",
        "print(\"Best parameters of M, d, m are: \", best_M, best_d, best_m)\n",
        "print(\"Test accuracy :\", test_score)\n",
        "print(\"Sensitivité :\", test_recall)\n",
        "print(\"AUC:\", test_auc)"
      ]
    },
    {
      "cell_type": "markdown",
      "id": "b0585539",
      "metadata": {
        "id": "b0585539"
      },
      "source": [
        "## Adaboost"
      ]
    },
    {
      "cell_type": "code",
      "execution_count": null,
      "id": "eaa1b5e9",
      "metadata": {
        "id": "eaa1b5e9",
        "outputId": "e2ff8e05-1856-4ba3-8781-f59564751ab6"
      },
      "outputs": [
        {
          "name": "stdout",
          "output_type": "stream",
          "text": [
            "best parameter M:  2\n",
            "best parameter lr: 0.0001\n",
            "test accuracy: 0.8157894736842105\n",
            "sensitivité:  0.65\n",
            "AUC: 0.7944444444444445\n"
          ]
        }
      ],
      "source": [
        "best_score= 0\n",
        "k_folds= 5\n",
        "\n",
        "\n",
        "for M in range(2,15,2):\n",
        "    for lr in [0.0001, 0.001, 0.01, 0.1, 1]:\n",
        "\n",
        "        boostModel= AdaBoostClassifier(n_estimators= M, learning_rate= lr, random_state=0)\n",
        "\n",
        "        scores= cross_val_score(boostModel, X_train_scaled, y_train, cv= k_folds, scoring= 'accuracy')\n",
        "\n",
        "        score= np.mean(scores)\n",
        "\n",
        "        if score > best_score:\n",
        "\n",
        "            best_score= score\n",
        "            best_M= M\n",
        "            best_lr= lr\n",
        "\n",
        "\n",
        "SelectedBoostModel= AdaBoostClassifier(n_estimators= best_M, learning_rate= lr, random_state=0).fit(X_train_scaled, y_train)\n",
        "\n",
        "PredictedOutput= SelectedBoostModel.predict(X_test_scaled)\n",
        "test_score= SelectedBoostModel.score(X_test_scaled, y_test)\n",
        "test_recall= recall_score(y_test, PredictedOutput, pos_label=1)\n",
        "PredictedOutput_proba= SelectedBoostModel.predict_proba(X_test_scaled)\n",
        "fpr, tpr, thresholds= roc_curve(y_test, PredictedOutput_proba[:,1], pos_label=1)\n",
        "test_auc= auc(fpr, tpr)\n",
        "\n",
        "\n",
        "print(\"best parameter M: \", best_M)\n",
        "print(\"best parameter lr:\", best_lr)\n",
        "print(\"test accuracy:\", test_score)\n",
        "print(\"sensitivité: \", test_recall)\n",
        "print(\"AUC:\", test_auc)\n",
        "\n",
        "\n",
        "\n",
        "\n",
        "\n"
      ]
    },
    {
      "cell_type": "code",
      "execution_count": null,
      "id": "18b7f2eb",
      "metadata": {
        "id": "18b7f2eb"
      },
      "outputs": [],
      "source": []
    },
    {
      "cell_type": "code",
      "execution_count": null,
      "id": "617b1c2f",
      "metadata": {
        "id": "617b1c2f"
      },
      "outputs": [],
      "source": []
    },
    {
      "cell_type": "code",
      "execution_count": null,
      "id": "4453eaf7",
      "metadata": {
        "id": "4453eaf7"
      },
      "outputs": [],
      "source": []
    },
    {
      "cell_type": "code",
      "execution_count": null,
      "id": "9eb4b23c",
      "metadata": {
        "id": "9eb4b23c"
      },
      "outputs": [],
      "source": []
    },
    {
      "cell_type": "code",
      "execution_count": null,
      "id": "0713c6c5",
      "metadata": {
        "id": "0713c6c5"
      },
      "outputs": [],
      "source": []
    },
    {
      "cell_type": "code",
      "execution_count": null,
      "id": "d14d5d81",
      "metadata": {
        "id": "d14d5d81"
      },
      "outputs": [],
      "source": []
    },
    {
      "cell_type": "code",
      "execution_count": null,
      "id": "777958b2",
      "metadata": {
        "id": "777958b2"
      },
      "outputs": [],
      "source": []
    },
    {
      "cell_type": "code",
      "execution_count": null,
      "id": "d7f9b710",
      "metadata": {
        "id": "d7f9b710"
      },
      "outputs": [],
      "source": []
    },
    {
      "cell_type": "code",
      "execution_count": null,
      "id": "7887ee34",
      "metadata": {
        "id": "7887ee34"
      },
      "outputs": [],
      "source": []
    },
    {
      "cell_type": "code",
      "execution_count": null,
      "id": "4d1891a7",
      "metadata": {
        "id": "4d1891a7"
      },
      "outputs": [],
      "source": []
    },
    {
      "cell_type": "code",
      "execution_count": null,
      "id": "7f3e8ef1",
      "metadata": {
        "id": "7f3e8ef1"
      },
      "outputs": [],
      "source": []
    },
    {
      "cell_type": "code",
      "execution_count": null,
      "id": "053be7fa",
      "metadata": {
        "id": "053be7fa"
      },
      "outputs": [],
      "source": []
    },
    {
      "cell_type": "code",
      "execution_count": null,
      "id": "f580ab7c",
      "metadata": {
        "id": "f580ab7c"
      },
      "outputs": [],
      "source": []
    },
    {
      "cell_type": "code",
      "execution_count": null,
      "id": "995e1983",
      "metadata": {
        "id": "995e1983"
      },
      "outputs": [],
      "source": []
    }
  ],
  "metadata": {
    "kernelspec": {
      "display_name": "Python 3 (ipykernel)",
      "language": "python",
      "name": "python3"
    },
    "language_info": {
      "codemirror_mode": {
        "name": "ipython",
        "version": 3
      },
      "file_extension": ".py",
      "mimetype": "text/x-python",
      "name": "python",
      "nbconvert_exporter": "python",
      "pygments_lexer": "ipython3",
      "version": "3.9.12"
    },
    "colab": {
      "provenance": []
    }
  },
  "nbformat": 4,
  "nbformat_minor": 5
}