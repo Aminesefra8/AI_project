{
 "cells": [
  {
   "cell_type": "code",
   "execution_count": 1,
   "id": "6b2bf807",
   "metadata": {},
   "outputs": [],
   "source": [
    "import tensorflow as tf\n",
    "from tensorflow import keras\n",
    "import pandas as pd\n",
    "import numpy as np\n",
    "import matplotlib.pyplot as plt\n",
    "from PIL import Image\n",
    "from tqdm import tqdm\n",
    "from sklearn.model_selection import train_test_split\n",
    "from tensorflow.keras.models import Sequential\n",
    "from tensorflow.keras.layers import Conv2D, Activation, MaxPooling2D, Dense, Flatten\n",
    "import random"
   ]
  },
  {
   "cell_type": "code",
   "execution_count": 2,
   "id": "a4420b8d",
   "metadata": {},
   "outputs": [
    {
     "name": "stderr",
     "output_type": "stream",
     "text": [
      "100%|████████████████████████████████████████| 896/896 [00:02<00:00, 385.85it/s]\n"
     ]
    }
   ],
   "source": [
    "Mild_demented=[]\n",
    "for i in tqdm(range(1,897)):\n",
    "    filename= f\"Desktop/Dataset/Mild_Demented/mild_{i}.jpg\"\n",
    "    img= Image.open(filename)\n",
    "    #nouvelle_largeur= img.width // 4\n",
    "    #nouvelle_hauteur= img.height // 4\n",
    "    #img_redim= img.resize((nouvelle_largeur, nouvelle_hauteur))\n",
    "    tableau_pixels= np.asarray(img)\n",
    "    Mild_demented.append(tableau_pixels.tolist())"
   ]
  },
  {
   "cell_type": "code",
   "execution_count": 3,
   "id": "04b2acce",
   "metadata": {},
   "outputs": [],
   "source": [
    "Mild_demented= np.array(Mild_demented)"
   ]
  },
  {
   "cell_type": "code",
   "execution_count": 4,
   "id": "c6af3930",
   "metadata": {},
   "outputs": [
    {
     "data": {
      "text/plain": [
       "(896, 128, 128)"
      ]
     },
     "execution_count": 4,
     "metadata": {},
     "output_type": "execute_result"
    }
   ],
   "source": [
    "Mild_demented.shape #image de taille 128 fois 128 pixels"
   ]
  },
  {
   "cell_type": "code",
   "execution_count": 5,
   "id": "b5d9386a",
   "metadata": {},
   "outputs": [
    {
     "name": "stderr",
     "output_type": "stream",
     "text": [
      "100%|██████████████████████████████████████| 3200/3200 [00:07<00:00, 432.99it/s]\n"
     ]
    }
   ],
   "source": [
    "Non_demented=[]\n",
    "for i in tqdm(range(1,3201)):\n",
    "    filename= f\"Desktop/Dataset/Non_Demented/non_{i}.jpg\"\n",
    "    img= Image.open(filename)\n",
    "    #nouvelle_largeur= img.width // 4\n",
    "    #nouvelle_hauteur= img.height // 4\n",
    "    #img_redim= img.resize((nouvelle_largeur, nouvelle_hauteur))\n",
    "    tableau_pixels= np.asarray(img)\n",
    "    Non_demented.append(tableau_pixels.tolist())"
   ]
  },
  {
   "cell_type": "code",
   "execution_count": 6,
   "id": "49472a00",
   "metadata": {},
   "outputs": [],
   "source": [
    "Non_demented= np.array(Non_demented)"
   ]
  },
  {
   "cell_type": "code",
   "execution_count": 7,
   "id": "a30bd1d6",
   "metadata": {},
   "outputs": [
    {
     "name": "stderr",
     "output_type": "stream",
     "text": [
      "100%|██████████████████████████████████████| 2240/2240 [00:05<00:00, 426.89it/s]\n"
     ]
    }
   ],
   "source": [
    "Very_Mild_demented=[]\n",
    "for i in tqdm(range(1,2241)):\n",
    "    filename= f\"Desktop/Dataset/Very_Mild_Demented/verymild_{i}.jpg\"\n",
    "    img= Image.open(filename)\n",
    "    #nouvelle_largeur= img.width // 4\n",
    "    #nouvelle_hauteur= img.height // 4\n",
    "    #img_redim= img.resize((nouvelle_largeur, nouvelle_hauteur))\n",
    "    tableau_pixels= np.asarray(img)\n",
    "    Very_Mild_demented.append(tableau_pixels.tolist())"
   ]
  },
  {
   "cell_type": "code",
   "execution_count": 8,
   "id": "ccd6e6ad",
   "metadata": {},
   "outputs": [],
   "source": [
    "Very_Mild_demented= np.array(Very_Mild_demented)"
   ]
  },
  {
   "cell_type": "code",
   "execution_count": 9,
   "id": "512b0f76",
   "metadata": {},
   "outputs": [],
   "source": [
    "X= np.concatenate((Mild_demented, Non_demented, Very_Mild_demented), axis=0)"
   ]
  },
  {
   "cell_type": "code",
   "execution_count": 10,
   "id": "b8a22071",
   "metadata": {},
   "outputs": [],
   "source": [
    "X= X.reshape(-1,128,128,1)"
   ]
  },
  {
   "cell_type": "code",
   "execution_count": 11,
   "id": "a1106293",
   "metadata": {},
   "outputs": [],
   "source": [
    "y=[]\n",
    "for i in range(896):\n",
    "    y.append(0)\n",
    "for i in range(3200):\n",
    "    y.append(1)\n",
    "for i in range(2240):\n",
    "    y.append(2)"
   ]
  },
  {
   "cell_type": "code",
   "execution_count": 12,
   "id": "b07f727c",
   "metadata": {},
   "outputs": [],
   "source": [
    "y=np.array(y)"
   ]
  },
  {
   "cell_type": "code",
   "execution_count": 13,
   "id": "a824cadd",
   "metadata": {},
   "outputs": [],
   "source": [
    "permut= np.random.permutation(len(X))"
   ]
  },
  {
   "cell_type": "code",
   "execution_count": 14,
   "id": "c3c9b6b8",
   "metadata": {},
   "outputs": [],
   "source": [
    "X_bis= X[permut]"
   ]
  },
  {
   "cell_type": "code",
   "execution_count": 15,
   "id": "2a4a39e0",
   "metadata": {},
   "outputs": [],
   "source": [
    "y_bis= y[permut]"
   ]
  },
  {
   "cell_type": "code",
   "execution_count": 16,
   "id": "7dc0efce",
   "metadata": {},
   "outputs": [],
   "source": [
    "X_train, X_test, y_train, y_test= train_test_split(X_bis, y_bis, test_size=0.2, random_state=42)"
   ]
  },
  {
   "cell_type": "code",
   "execution_count": 17,
   "id": "c1ae420e",
   "metadata": {},
   "outputs": [],
   "source": [
    "X_train= X_train/255.0\n",
    "X_test= X_test/255.0"
   ]
  },
  {
   "cell_type": "code",
   "execution_count": 18,
   "id": "598107db",
   "metadata": {},
   "outputs": [
    {
     "name": "stderr",
     "output_type": "stream",
     "text": [
      "2023-07-31 14:45:35.176392: I tensorflow/core/platform/cpu_feature_guard.cc:193] This TensorFlow binary is optimized with oneAPI Deep Neural Network Library (oneDNN) to use the following CPU instructions in performance-critical operations:  AVX2 FMA\n",
      "To enable them in other operations, rebuild TensorFlow with the appropriate compiler flags.\n"
     ]
    }
   ],
   "source": [
    "model= keras.models.Sequential()\n",
    "\n",
    "model.add(keras.layers.Input((128,128,1)))\n",
    "\n",
    "model.add(keras.layers.Conv2D(8, (3,3), activation='relu'))\n",
    "model.add(keras.layers.MaxPooling2D((2,2)))\n",
    "model.add(keras.layers.Dropout(0.2))\n",
    "\n",
    "model.add(keras.layers.Conv2D(16, (3,3), activation='relu'))\n",
    "model.add(keras.layers.MaxPooling2D((2,2)))\n",
    "model.add(keras.layers.Dropout(0.2))\n",
    "\n",
    "model.add(keras.layers.Flatten())\n",
    "model.add(keras.layers.Dense(100, activation='relu'))\n",
    "model.add(keras.layers.Dropout(0.5))\n",
    "\n",
    "model.add(keras.layers.Dense(3, activation= 'softmax'))"
   ]
  },
  {
   "cell_type": "code",
   "execution_count": 19,
   "id": "8d49d4ac",
   "metadata": {},
   "outputs": [],
   "source": [
    "model.compile(loss='sparse_categorical_crossentropy', optimizer= 'adam',metrics=['accuracy'])"
   ]
  },
  {
   "cell_type": "code",
   "execution_count": 26,
   "id": "b943bfd4",
   "metadata": {},
   "outputs": [
    {
     "name": "stdout",
     "output_type": "stream",
     "text": [
      "Epoch 1/20\n",
      "102/102 [==============================] - 25s 245ms/step - loss: 0.2627 - accuracy: 0.8986 - val_loss: 0.1090 - val_accuracy: 0.9858\n",
      "Epoch 2/20\n",
      "102/102 [==============================] - 26s 255ms/step - loss: 0.2616 - accuracy: 0.8944 - val_loss: 0.1057 - val_accuracy: 0.9874\n",
      "Epoch 3/20\n",
      "102/102 [==============================] - 28s 271ms/step - loss: 0.2670 - accuracy: 0.8907 - val_loss: 0.1086 - val_accuracy: 0.9826\n",
      "Epoch 4/20\n",
      "102/102 [==============================] - 28s 272ms/step - loss: 0.2486 - accuracy: 0.9023 - val_loss: 0.1117 - val_accuracy: 0.9850\n",
      "Epoch 5/20\n",
      "102/102 [==============================] - 28s 278ms/step - loss: 0.2577 - accuracy: 0.8968 - val_loss: 0.1072 - val_accuracy: 0.9842\n",
      "Epoch 6/20\n",
      "102/102 [==============================] - 28s 278ms/step - loss: 0.2583 - accuracy: 0.8956 - val_loss: 0.1107 - val_accuracy: 0.9897\n",
      "Epoch 7/20\n",
      "102/102 [==============================] - 28s 279ms/step - loss: 0.2619 - accuracy: 0.8946 - val_loss: 0.1047 - val_accuracy: 0.9882\n",
      "Epoch 8/20\n",
      "102/102 [==============================] - 28s 274ms/step - loss: 0.2855 - accuracy: 0.8877 - val_loss: 0.1307 - val_accuracy: 0.9842\n",
      "Epoch 9/20\n",
      "102/102 [==============================] - 28s 279ms/step - loss: 0.2593 - accuracy: 0.8944 - val_loss: 0.0989 - val_accuracy: 0.9897\n",
      "Epoch 10/20\n",
      "102/102 [==============================] - 29s 280ms/step - loss: 0.2455 - accuracy: 0.8998 - val_loss: 0.1065 - val_accuracy: 0.9929\n",
      "Epoch 11/20\n",
      "102/102 [==============================] - 29s 279ms/step - loss: 0.2544 - accuracy: 0.8976 - val_loss: 0.1008 - val_accuracy: 0.9882\n",
      "Epoch 12/20\n",
      "102/102 [==============================] - 28s 274ms/step - loss: 0.2576 - accuracy: 0.8972 - val_loss: 0.1043 - val_accuracy: 0.9897\n",
      "Epoch 13/20\n",
      "102/102 [==============================] - 28s 270ms/step - loss: 0.2547 - accuracy: 0.8962 - val_loss: 0.0986 - val_accuracy: 0.9882\n",
      "Epoch 14/20\n",
      "102/102 [==============================] - 29s 288ms/step - loss: 0.2401 - accuracy: 0.9061 - val_loss: 0.0955 - val_accuracy: 0.9921\n",
      "Epoch 15/20\n",
      "102/102 [==============================] - 28s 272ms/step - loss: 0.2420 - accuracy: 0.9063 - val_loss: 0.0988 - val_accuracy: 0.9929\n",
      "Epoch 16/20\n",
      "102/102 [==============================] - 28s 272ms/step - loss: 0.2532 - accuracy: 0.9006 - val_loss: 0.0921 - val_accuracy: 0.9937\n",
      "Epoch 17/20\n",
      "102/102 [==============================] - 28s 275ms/step - loss: 0.2484 - accuracy: 0.9007 - val_loss: 0.0938 - val_accuracy: 0.9897\n",
      "Epoch 18/20\n",
      "102/102 [==============================] - 29s 282ms/step - loss: 0.2479 - accuracy: 0.9023 - val_loss: 0.1106 - val_accuracy: 0.9866\n",
      "Epoch 19/20\n",
      "102/102 [==============================] - 28s 271ms/step - loss: 0.2505 - accuracy: 0.9007 - val_loss: 0.1007 - val_accuracy: 0.9913\n",
      "Epoch 20/20\n",
      "102/102 [==============================] - 27s 269ms/step - loss: 0.2413 - accuracy: 0.9067 - val_loss: 0.0991 - val_accuracy: 0.9874\n"
     ]
    }
   ],
   "source": [
    "batch_size= 50\n",
    "epochs= 20\n",
    "\n",
    "history= model.fit(X_train, y_train, batch_size= batch_size, epochs=epochs, verbose=1, validation_data= (X_test, y_test))"
   ]
  },
  {
   "cell_type": "code",
   "execution_count": 29,
   "id": "70885ea8",
   "metadata": {},
   "outputs": [
    {
     "name": "stdout",
     "output_type": "stream",
     "text": [
      "Model: \"sequential\"\n",
      "_________________________________________________________________\n",
      " Layer (type)                Output Shape              Param #   \n",
      "=================================================================\n",
      " conv2d (Conv2D)             (None, 126, 126, 8)       80        \n",
      "                                                                 \n",
      " max_pooling2d (MaxPooling2D  (None, 63, 63, 8)        0         \n",
      " )                                                               \n",
      "                                                                 \n",
      " dropout (Dropout)           (None, 63, 63, 8)         0         \n",
      "                                                                 \n",
      " conv2d_1 (Conv2D)           (None, 61, 61, 16)        1168      \n",
      "                                                                 \n",
      " max_pooling2d_1 (MaxPooling  (None, 30, 30, 16)       0         \n",
      " 2D)                                                             \n",
      "                                                                 \n",
      " dropout_1 (Dropout)         (None, 30, 30, 16)        0         \n",
      "                                                                 \n",
      " flatten (Flatten)           (None, 14400)             0         \n",
      "                                                                 \n",
      " dense (Dense)               (None, 100)               1440100   \n",
      "                                                                 \n",
      " dropout_2 (Dropout)         (None, 100)               0         \n",
      "                                                                 \n",
      " dense_1 (Dense)             (None, 3)                 303       \n",
      "                                                                 \n",
      "=================================================================\n",
      "Total params: 1,441,651\n",
      "Trainable params: 1,441,651\n",
      "Non-trainable params: 0\n",
      "_________________________________________________________________\n"
     ]
    }
   ],
   "source": [
    "model.summary()"
   ]
  },
  {
   "cell_type": "code",
   "execution_count": 28,
   "id": "cfd56316",
   "metadata": {},
   "outputs": [
    {
     "name": "stdout",
     "output_type": "stream",
     "text": [
      "40/40 [==============================] - 2s 41ms/step - loss: 0.0991 - accuracy: 0.9874\n",
      "0.09906022995710373\n",
      "0.9873816967010498\n"
     ]
    }
   ],
   "source": [
    "score= model.evaluate(X_test, y_test)\n",
    "\n",
    "print(score[0]) #test loss\n",
    "print(score[1]) "
   ]
  },
  {
   "cell_type": "code",
   "execution_count": null,
   "id": "da72d04a",
   "metadata": {},
   "outputs": [],
   "source": []
  },
  {
   "cell_type": "code",
   "execution_count": null,
   "id": "2e9aec8f",
   "metadata": {},
   "outputs": [],
   "source": []
  },
  {
   "cell_type": "code",
   "execution_count": 20,
   "id": "dc7b1dda",
   "metadata": {},
   "outputs": [
    {
     "data": {
      "text/plain": [
       "(5068, 128, 128, 1)"
      ]
     },
     "execution_count": 20,
     "metadata": {},
     "output_type": "execute_result"
    }
   ],
   "source": [
    "X_train.shape"
   ]
  },
  {
   "cell_type": "code",
   "execution_count": 82,
   "id": "26d8f967",
   "metadata": {},
   "outputs": [],
   "source": [
    "filename= \"Desktop/Dataset/Mild_Demented/mild_1.jpg\"\n",
    "img= Image.open(filename)"
   ]
  },
  {
   "cell_type": "code",
   "execution_count": 83,
   "id": "bdb6650f",
   "metadata": {},
   "outputs": [
    {
     "data": {
      "image/png": "[encoded data removed]",
      "text/plain": [
       "<PIL.JpegImagePlugin.JpegImageFile image mode=L size=128x128 at 0x7FD708011D90>"
      ]
     },
     "execution_count": 83,
     "metadata": {},
     "output_type": "execute_result"
    }
   ],
   "source": [
    "img"
   ]
  },
  {
   "cell_type": "code",
   "execution_count": 84,
   "id": "238dfd20",
   "metadata": {},
   "outputs": [
    {
     "data": {
      "text/plain": [
       "(1, 128, 128, 1)"
      ]
     },
     "execution_count": 84,
     "metadata": {},
     "output_type": "execute_result"
    }
   ],
   "source": [
    "tableau_pixels= np.asarray(img)\n",
    "tableau_pixels= tableau_pixels.reshape((1,128,128,1))\n",
    "tableau_pixels.shape"
   ]
  },
  {
   "cell_type": "code",
   "execution_count": 85,
   "id": "f7010e77",
   "metadata": {},
   "outputs": [
    {
     "name": "stdout",
     "output_type": "stream",
     "text": [
      "1/1 [==============================] - 0s 28ms/step\n",
      "Prédiction: Mild-demented\n"
     ]
    }
   ],
   "source": [
    "y_pred= model.predict(tableau_pixels)\n",
    "etiq= np.argmax(y_pred, axis=1)\n",
    "\n",
    "if (etiq[0]==0):\n",
    "    print(\"Prédiction: Mild-demented\")\n",
    "    \n",
    "if (etiq[0]==1):\n",
    "    print(\"Prédiction: Non-demented\")\n",
    "    \n",
    "if(etiq[0]==2):\n",
    "    print(\"Prédiction: Very Mild demented\")\n"
   ]
  },
  {
   "cell_type": "code",
   "execution_count": 86,
   "id": "20a79c29",
   "metadata": {},
   "outputs": [],
   "source": [
    "filename_bis= \"Desktop/Dataset/Non_Demented/non_1.jpg\"\n",
    "img_bis= Image.open(filename_bis)"
   ]
  },
  {
   "cell_type": "code",
   "execution_count": 87,
   "id": "1f2e3a50",
   "metadata": {},
   "outputs": [
    {
     "data": {
      "image/png": "[encoded data removed]",
      "text/plain": [
       "<PIL.JpegImagePlugin.JpegImageFile image mode=L size=128x128 at 0x7FD5A2826730>"
      ]
     },
     "execution_count": 87,
     "metadata": {},
     "output_type": "execute_result"
    }
   ],
   "source": [
    "img_bis"
   ]
  },
  {
   "cell_type": "code",
   "execution_count": 88,
   "id": "fa819012",
   "metadata": {},
   "outputs": [
    {
     "data": {
      "text/plain": [
       "(1, 128, 128, 1)"
      ]
     },
     "execution_count": 88,
     "metadata": {},
     "output_type": "execute_result"
    }
   ],
   "source": [
    "tableau_pixels= np.asarray(img_bis)\n",
    "tableau_pixels= tableau_pixels.reshape((1,128,128,1))\n",
    "tableau_pixels.shape"
   ]
  },
  {
   "cell_type": "code",
   "execution_count": 89,
   "id": "6ff05fed",
   "metadata": {},
   "outputs": [
    {
     "name": "stdout",
     "output_type": "stream",
     "text": [
      "1/1 [==============================] - 0s 27ms/step\n",
      "Prédiction: Non-demented\n"
     ]
    }
   ],
   "source": [
    "y_pred= model.predict(tableau_pixels)\n",
    "etiq= np.argmax(y_pred, axis=1)\n",
    "\n",
    "if (etiq[0]==0):\n",
    "    print(\"Prédiction: Mild-demented\")\n",
    "    \n",
    "if (etiq[0]==1):\n",
    "    print(\"Prédiction: Non-demented\")\n",
    "    \n",
    "if(etiq[0]==2):\n",
    "    print(\"Prédiction: Very Mild demented\")"
   ]
  },
  {
   "cell_type": "code",
   "execution_count": null,
   "id": "1b0a274c",
   "metadata": {},
   "outputs": [],
   "source": []
  },
  {
   "cell_type": "code",
   "execution_count": null,
   "id": "bd99c600",
   "metadata": {},
   "outputs": [],
   "source": []
  },
  {
   "cell_type": "code",
   "execution_count": null,
   "id": "26cb9060",
   "metadata": {},
   "outputs": [],
   "source": []
  },
  {
   "cell_type": "code",
   "execution_count": null,
   "id": "a1b4e8ff",
   "metadata": {},
   "outputs": [],
   "source": []
  },
  {
   "cell_type": "code",
   "execution_count": null,
   "id": "b00dee28",
   "metadata": {},
   "outputs": [],
   "source": []
  },
  {
   "cell_type": "code",
   "execution_count": null,
   "id": "6013d422",
   "metadata": {},
   "outputs": [],
   "source": []
  },
  {
   "cell_type": "code",
   "execution_count": null,
   "id": "cf68dd52",
   "metadata": {},
   "outputs": [],
   "source": []
  },
  {
   "cell_type": "code",
   "execution_count": null,
   "id": "17402613",
   "metadata": {},
   "outputs": [],
   "source": []
  },
  {
   "cell_type": "code",
   "execution_count": null,
   "id": "e98cf492",
   "metadata": {},
   "outputs": [],
   "source": []
  },
  {
   "cell_type": "code",
   "execution_count": null,
   "id": "5d7f1746",
   "metadata": {},
   "outputs": [],
   "source": []
  },
  {
   "cell_type": "code",
   "execution_count": null,
   "id": "1d79fa96",
   "metadata": {},
   "outputs": [],
   "source": []
  },
  {
   "cell_type": "code",
   "execution_count": null,
   "id": "af1b9648",
   "metadata": {},
   "outputs": [],
   "source": []
  },
  {
   "cell_type": "code",
   "execution_count": null,
   "id": "11f6813b",
   "metadata": {},
   "outputs": [],
   "source": []
  },
  {
   "cell_type": "code",
   "execution_count": null,
   "id": "fdd6462b",
   "metadata": {},
   "outputs": [],
   "source": []
  }
 ],
 "metadata": {
  "kernelspec": {
   "display_name": "Python 3 (ipykernel)",
   "language": "python",
   "name": "python3"
  },
  "language_info": {
   "codemirror_mode": {
    "name": "ipython",
    "version": 3
   },
   "file_extension": ".py",
   "mimetype": "text/x-python",
   "name": "python",
   "nbconvert_exporter": "python",
   "pygments_lexer": "ipython3",
   "version": "3.9.12"
  }
 },
 "nbformat": 4,
 "nbformat_minor": 5
}
