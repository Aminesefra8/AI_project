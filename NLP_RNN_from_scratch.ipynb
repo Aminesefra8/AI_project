{
 "cells": [
  {
   "cell_type": "markdown",
   "id": "11475054",
   "metadata": {},
   "source": [
    "Ce projet a pour but de classifier des phrases. Par exemple à partir de commentaires de réseaux sociaux concernant un film, le modèle doit prédire si leurs avis est positif ou non négatif. Pour faire cela on va coder un RNN (Recurrent Neural Network), on passera en entrée de ce réseau de neurones des phrases sous formes de vecteurs binaires."
   ]
  },
  {
   "cell_type": "code",
   "execution_count": null,
   "id": "9cdc0517",
   "metadata": {},
   "outputs": [],
   "source": []
  },
  {
   "cell_type": "code",
   "execution_count": null,
   "id": "24708edf",
   "metadata": {},
   "outputs": [],
   "source": []
  },
  {
   "cell_type": "code",
   "execution_count": null,
   "id": "8c4de09e",
   "metadata": {},
   "outputs": [],
   "source": []
  },
  {
   "cell_type": "code",
   "execution_count": 1,
   "id": "eba4b60f",
   "metadata": {},
   "outputs": [],
   "source": [
    "import pandas as pd\n",
    "import numpy as np\n",
    "import matplotlib.pyplot as plt\n",
    "from tqdm import tqdm"
   ]
  },
  {
   "cell_type": "code",
   "execution_count": 87,
   "id": "0dc943f6",
   "metadata": {},
   "outputs": [],
   "source": [
    "data= {\n",
    "    'Phrase' : ['Bon film', \"Bof je m'attendais à mieux\", \"Excellent film\",\n",
    "               'Ce film est trop nul', \"Wow j'ai adoré\", \"Nul\",\n",
    "               \"J'ai vraiment détesté ce film\", \"Très bon film\", 'Bon film' \"Film nul\",\n",
    "               'Bon film'],\n",
    "    'Appréciation' : ['Aimé', 'Pas aimé', \"Aimé\", 'Pas aimé', 'Aimé', 'Pas aimé',\n",
    "                     'Pas aimé', 'Aimé', 'Aimé', 'Pas aimé','Aimé']\n",
    "}"
   ]
  },
  {
   "cell_type": "code",
   "execution_count": 79,
   "id": "9018e218",
   "metadata": {},
   "outputs": [],
   "source": [
    "df= pd.DataFrame(data)"
   ]
  },
  {
   "cell_type": "code",
   "execution_count": 52,
   "id": "f5fe534b",
   "metadata": {},
   "outputs": [
    {
     "data": {
      "text/html": [
       "<div>\n",
       "<style scoped>\n",
       "    .dataframe tbody tr th:only-of-type {\n",
       "        vertical-align: middle;\n",
       "    }\n",
       "\n",
       "    .dataframe tbody tr th {\n",
       "        vertical-align: top;\n",
       "    }\n",
       "\n",
       "    .dataframe thead th {\n",
       "        text-align: right;\n",
       "    }\n",
       "</style>\n",
       "<table border=\"1\" class=\"dataframe\">\n",
       "  <thead>\n",
       "    <tr style=\"text-align: right;\">\n",
       "      <th></th>\n",
       "      <th>Phrase</th>\n",
       "      <th>Appréciation</th>\n",
       "    </tr>\n",
       "  </thead>\n",
       "  <tbody>\n",
       "    <tr>\n",
       "      <th>0</th>\n",
       "      <td>Bon film</td>\n",
       "      <td>Aimé</td>\n",
       "    </tr>\n",
       "    <tr>\n",
       "      <th>1</th>\n",
       "      <td>Bof je m'attendais à mieux</td>\n",
       "      <td>Pas aimé</td>\n",
       "    </tr>\n",
       "    <tr>\n",
       "      <th>2</th>\n",
       "      <td>Excellent film</td>\n",
       "      <td>Aimé</td>\n",
       "    </tr>\n",
       "    <tr>\n",
       "      <th>3</th>\n",
       "      <td>Ce film est trop nul</td>\n",
       "      <td>Pas Aimé</td>\n",
       "    </tr>\n",
       "  </tbody>\n",
       "</table>\n",
       "</div>"
      ],
      "text/plain": [
       "                       Phrase Appréciation\n",
       "0                    Bon film         Aimé\n",
       "1  Bof je m'attendais à mieux     Pas aimé\n",
       "2              Excellent film         Aimé\n",
       "3        Ce film est trop nul     Pas Aimé"
      ]
     },
     "execution_count": 52,
     "metadata": {},
     "output_type": "execute_result"
    }
   ],
   "source": [
    "df"
   ]
  },
  {
   "cell_type": "code",
   "execution_count": 80,
   "id": "17407faf",
   "metadata": {},
   "outputs": [],
   "source": [
    "df_tilde= df\n",
    "df_tilde[\"Appréciation\"]=df_tilde[\"Appréciation\"].replace({'Aimé':1, 'Pas aimé': 0})"
   ]
  },
  {
   "cell_type": "code",
   "execution_count": 81,
   "id": "9c0a17c0",
   "metadata": {},
   "outputs": [
    {
     "data": {
      "text/html": [
       "<div>\n",
       "<style scoped>\n",
       "    .dataframe tbody tr th:only-of-type {\n",
       "        vertical-align: middle;\n",
       "    }\n",
       "\n",
       "    .dataframe tbody tr th {\n",
       "        vertical-align: top;\n",
       "    }\n",
       "\n",
       "    .dataframe thead th {\n",
       "        text-align: right;\n",
       "    }\n",
       "</style>\n",
       "<table border=\"1\" class=\"dataframe\">\n",
       "  <thead>\n",
       "    <tr style=\"text-align: right;\">\n",
       "      <th></th>\n",
       "      <th>Phrase</th>\n",
       "      <th>Appréciation</th>\n",
       "    </tr>\n",
       "  </thead>\n",
       "  <tbody>\n",
       "    <tr>\n",
       "      <th>0</th>\n",
       "      <td>Bon film</td>\n",
       "      <td>1</td>\n",
       "    </tr>\n",
       "    <tr>\n",
       "      <th>1</th>\n",
       "      <td>Bof je m'attendais à mieux</td>\n",
       "      <td>0</td>\n",
       "    </tr>\n",
       "    <tr>\n",
       "      <th>2</th>\n",
       "      <td>Excellent film</td>\n",
       "      <td>1</td>\n",
       "    </tr>\n",
       "    <tr>\n",
       "      <th>3</th>\n",
       "      <td>Ce film est trop nul</td>\n",
       "      <td>0</td>\n",
       "    </tr>\n",
       "    <tr>\n",
       "      <th>4</th>\n",
       "      <td>Wow j'ai adoré</td>\n",
       "      <td>1</td>\n",
       "    </tr>\n",
       "    <tr>\n",
       "      <th>5</th>\n",
       "      <td>Nul</td>\n",
       "      <td>0</td>\n",
       "    </tr>\n",
       "    <tr>\n",
       "      <th>6</th>\n",
       "      <td>J'ai vraiment détesté ce film</td>\n",
       "      <td>0</td>\n",
       "    </tr>\n",
       "    <tr>\n",
       "      <th>7</th>\n",
       "      <td>Très bon film</td>\n",
       "      <td>1</td>\n",
       "    </tr>\n",
       "    <tr>\n",
       "      <th>8</th>\n",
       "      <td>Bon film</td>\n",
       "      <td>1</td>\n",
       "    </tr>\n",
       "  </tbody>\n",
       "</table>\n",
       "</div>"
      ],
      "text/plain": [
       "                          Phrase  Appréciation\n",
       "0                       Bon film             1\n",
       "1     Bof je m'attendais à mieux             0\n",
       "2                 Excellent film             1\n",
       "3           Ce film est trop nul             0\n",
       "4                 Wow j'ai adoré             1\n",
       "5                            Nul             0\n",
       "6  J'ai vraiment détesté ce film             0\n",
       "7                  Très bon film             1\n",
       "8                       Bon film             1"
      ]
     },
     "execution_count": 81,
     "metadata": {},
     "output_type": "execute_result"
    }
   ],
   "source": [
    "df_tilde"
   ]
  },
  {
   "cell_type": "code",
   "execution_count": 7,
   "id": "eccd631d",
   "metadata": {},
   "outputs": [
    {
     "data": {
      "text/plain": [
       "Phrase          object\n",
       "Appréciation     int64\n",
       "dtype: object"
      ]
     },
     "execution_count": 7,
     "metadata": {},
     "output_type": "execute_result"
    }
   ],
   "source": [
    "df.dtypes"
   ]
  },
  {
   "cell_type": "code",
   "execution_count": 92,
   "id": "6f75002e",
   "metadata": {},
   "outputs": [],
   "source": [
    "def softmax(liste):\n",
    "    \n",
    "    list_exp=[]\n",
    "    list_final=[]\n",
    "    for i in range(len(liste)):\n",
    "        list_exp.append(np.exp(liste[i]))\n",
    "        \n",
    "    for j in range(len(liste)):\n",
    "        list_final.append(np.exp(liste[j])/np.sum(list_exp))\n",
    "        \n",
    "    return list_final"
   ]
  },
  {
   "cell_type": "code",
   "execution_count": 93,
   "id": "4635cfcb",
   "metadata": {},
   "outputs": [
    {
     "data": {
      "text/plain": [
       "[array([0.09003057]), array([0.24472847]), array([0.66524096])]"
      ]
     },
     "execution_count": 93,
     "metadata": {},
     "output_type": "execute_result"
    }
   ],
   "source": [
    "L=np.array([1,2,3])\n",
    "L=L.reshape((3,1))\n",
    "softmax(L)"
   ]
  },
  {
   "cell_type": "code",
   "execution_count": 9,
   "id": "103daa8b",
   "metadata": {},
   "outputs": [],
   "source": [
    "L=[1,2,3]"
   ]
  },
  {
   "cell_type": "code",
   "execution_count": 10,
   "id": "729940d6",
   "metadata": {},
   "outputs": [
    {
     "data": {
      "text/plain": [
       "[0.09003057317038046, 0.24472847105479767, 0.6652409557748219]"
      ]
     },
     "execution_count": 10,
     "metadata": {},
     "output_type": "execute_result"
    }
   ],
   "source": [
    "softmax(L)"
   ]
  },
  {
   "cell_type": "code",
   "execution_count": 11,
   "id": "f7ea4ee7",
   "metadata": {},
   "outputs": [],
   "source": [
    "def suppr_doublons(liste):\n",
    "    \n",
    "    unique=[]\n",
    "    for i in range(len(liste)):\n",
    "        if liste[i] not in unique:\n",
    "            unique.append(liste[i])\n",
    "    return unique"
   ]
  },
  {
   "cell_type": "code",
   "execution_count": 12,
   "id": "f6ab5c5a",
   "metadata": {},
   "outputs": [],
   "source": [
    "def Extract_word(phrase):\n",
    "    \n",
    "    Word=[]\n",
    "    mot=''\n",
    "    j=0\n",
    "    while(j<len(phrase)):\n",
    "        while(j<len(phrase) and phrase[j]!= ' '):\n",
    "            mot= mot+phrase[j]\n",
    "            j=j+1\n",
    "            \n",
    "        if (mot != ''):\n",
    "            Word.append(mot)\n",
    "            \n",
    "        mot=''\n",
    "        j=j+1\n",
    "        \n",
    "    return Word \n",
    "        "
   ]
  },
  {
   "cell_type": "code",
   "execution_count": 13,
   "id": "5b579655",
   "metadata": {},
   "outputs": [],
   "source": [
    "def Vocabulaire(data):\n",
    "    \n",
    "    Voc=[]\n",
    "    for i in range(data.shape[0]):\n",
    "        \n",
    "        word_list= Extract_word(data['Phrase'][i])\n",
    "        Voc= Voc+word_list\n",
    "        \n",
    "    Voc= suppr_doublons(Voc)\n",
    "            \n",
    "    return Voc\n",
    "        \n",
    "    "
   ]
  },
  {
   "cell_type": "code",
   "execution_count": 14,
   "id": "d2a2198c",
   "metadata": {},
   "outputs": [
    {
     "data": {
      "text/plain": [
       "['Bon', 'film', 'Bof', 'je', \"m'attendais\", 'à', 'mieux']"
      ]
     },
     "execution_count": 14,
     "metadata": {},
     "output_type": "execute_result"
    }
   ],
   "source": [
    "Vocabulaire(df)"
   ]
  },
  {
   "cell_type": "code",
   "execution_count": 15,
   "id": "792d97a8",
   "metadata": {},
   "outputs": [],
   "source": [
    "def Vectorize_word(Vocabulaire, word):\n",
    "    \n",
    "    binaire=[]\n",
    "    for e in Vocabulaire:\n",
    "        if (e==word):\n",
    "            binaire.append(1)\n",
    "        else:\n",
    "            binaire.append(0)\n",
    "            \n",
    "    return np.array(binaire)"
   ]
  },
  {
   "cell_type": "code",
   "execution_count": 16,
   "id": "c4794bc7",
   "metadata": {},
   "outputs": [
    {
     "data": {
      "text/plain": [
       "(7,)"
      ]
     },
     "execution_count": 16,
     "metadata": {},
     "output_type": "execute_result"
    }
   ],
   "source": [
    "Vectorize_word(Vocabulaire(df), 'film').shape"
   ]
  },
  {
   "cell_type": "code",
   "execution_count": 17,
   "id": "7b308cd3",
   "metadata": {},
   "outputs": [
    {
     "data": {
      "text/plain": [
       "array([0, 0, 0, 0, 0, 0, 1])"
      ]
     },
     "execution_count": 17,
     "metadata": {},
     "output_type": "execute_result"
    }
   ],
   "source": [
    "Vectorize_word(Vocabulaire(df), 'mieux')"
   ]
  },
  {
   "cell_type": "code",
   "execution_count": 18,
   "id": "24b0df86",
   "metadata": {},
   "outputs": [],
   "source": [
    "def initialisation(data, nbr_classe):\n",
    "    \n",
    "    dimension_vocab= len(Vocabulaire(data))\n",
    "    parametre= {\n",
    "        \"a_0\": np.random.randn(dimension_vocab,1),\n",
    "        \"Wya\": np.random.randn(nbr_classe, dimension_vocab),\n",
    "        \"Waa\": np.random.randn(dimension_vocab, dimension_vocab),\n",
    "        \"Wax\": np.random.randn(dimension_vocab, dimension_vocab),\n",
    "        \"by\":  np.random.randn(1, 1),\n",
    "        \"ba\":  np.random.randn(1, 1)\n",
    "        \n",
    "    }\n",
    "    \n",
    "    return parametre"
   ]
  },
  {
   "cell_type": "code",
   "execution_count": 19,
   "id": "c2d99825",
   "metadata": {},
   "outputs": [],
   "source": [
    "def forward(data,parametre,f):\n",
    "    \n",
    "    parametre_a_T=[]\n",
    "    O=[]\n",
    "    \n",
    "    for j in range(data.shape[0]):\n",
    "        \n",
    "        \n",
    "        r= len(Vocabulaire(data))\n",
    "        T= len(Extract_word(data['Phrase'][j]))\n",
    "        word= Extract_word(data['Phrase'][j])\n",
    "        dictio={}\n",
    "        parametre_a_T.append(dictio)\n",
    "        parametre_a_T[j]= {'a_0': parametre['a_0']}\n",
    "        X_word={}\n",
    "        for i in range(1,T+1):\n",
    "            X_word['X_'+ str(i)]= Vectorize_word(Vocabulaire(data),word[i-1]).reshape((r,1))\n",
    "            parametre_a_T[j][\"a_\"+str(i)]= f(np.dot(parametre['Wax'], X_word['X_'+str(i)]) + np.dot(parametre['Waa'], parametre_a_T[j]['a_'+str(i-1)]) + parametre['ba'])\n",
    "            \n",
    "        Z= np.dot(parametre['Wya'], parametre_a_T[j][\"a_\"+str(T)]) + parametre['by']\n",
    "        O.append(softmax(Z))\n",
    "        \n",
    "    return O, parametre_a_T\n",
    "        \n",
    "            "
   ]
  },
  {
   "cell_type": "code",
   "execution_count": 20,
   "id": "131529d9",
   "metadata": {},
   "outputs": [],
   "source": [
    "def f_tanh(liste):\n",
    "    \n",
    "    liste_tanh=[]\n",
    "    for j in range(len(liste)):\n",
    "        liste_tanh.append(np.tanh(liste[j]))\n",
    "        \n",
    "    return (np.array(liste_tanh)).reshape((len(liste),1))"
   ]
  },
  {
   "cell_type": "code",
   "execution_count": 21,
   "id": "df3856b6",
   "metadata": {},
   "outputs": [],
   "source": [
    "L=np.array([1,3,3]).reshape((3,1))"
   ]
  },
  {
   "cell_type": "code",
   "execution_count": 22,
   "id": "94877d2a",
   "metadata": {},
   "outputs": [
    {
     "data": {
      "text/plain": [
       "array([[0.76159416],\n",
       "       [0.99505475],\n",
       "       [0.99505475]])"
      ]
     },
     "execution_count": 22,
     "metadata": {},
     "output_type": "execute_result"
    }
   ],
   "source": [
    "f_tanh(L)"
   ]
  },
  {
   "cell_type": "code",
   "execution_count": 23,
   "id": "aa8e3064",
   "metadata": {},
   "outputs": [],
   "source": [
    "def y_individu(valeur, nbr_classe):\n",
    "    \n",
    "    y=[]\n",
    "    L=[]\n",
    "    for i in range(nbr_classe):\n",
    "        L.append(i)\n",
    "        \n",
    "    for i in range(nbr_classe):\n",
    "        if(valeur==L[i]):\n",
    "            y.append(1)\n",
    "            \n",
    "        else:\n",
    "            y.append(0)\n",
    "        \n",
    "    return np.array(y)\n",
    "    "
   ]
  },
  {
   "cell_type": "code",
   "execution_count": 24,
   "id": "0e555a59",
   "metadata": {},
   "outputs": [
    {
     "data": {
      "text/plain": [
       "array([0, 0, 1])"
      ]
     },
     "execution_count": 24,
     "metadata": {},
     "output_type": "execute_result"
    }
   ],
   "source": [
    "y_individu(2,3)"
   ]
  },
  {
   "cell_type": "code",
   "execution_count": 25,
   "id": "4034e021",
   "metadata": {},
   "outputs": [],
   "source": [
    "parametre= initialisation(df,2)"
   ]
  },
  {
   "cell_type": "code",
   "execution_count": 26,
   "id": "9ac9210b",
   "metadata": {},
   "outputs": [],
   "source": [
    "g= lambda x: y_individu(x,2)\n",
    "valeur= df[\"Appréciation\"].apply(g)"
   ]
  },
  {
   "cell_type": "code",
   "execution_count": 27,
   "id": "dc27c4a6",
   "metadata": {},
   "outputs": [
    {
     "data": {
      "text/plain": [
       "array([0, 1])"
      ]
     },
     "execution_count": 27,
     "metadata": {},
     "output_type": "execute_result"
    }
   ],
   "source": [
    "valeur[0]"
   ]
  },
  {
   "cell_type": "code",
   "execution_count": 28,
   "id": "fa99008a",
   "metadata": {},
   "outputs": [],
   "source": [
    "y=valeur[0].reshape((2,1))"
   ]
  },
  {
   "cell_type": "code",
   "execution_count": 29,
   "id": "390395ae",
   "metadata": {},
   "outputs": [
    {
     "data": {
      "text/plain": [
       "array([[0],\n",
       "       [1]])"
      ]
     },
     "execution_count": 29,
     "metadata": {},
     "output_type": "execute_result"
    }
   ],
   "source": [
    "y"
   ]
  },
  {
   "cell_type": "code",
   "execution_count": 94,
   "id": "f9af5089",
   "metadata": {},
   "outputs": [],
   "source": [
    "O,A=forward(df, parametre, f_tanh)"
   ]
  },
  {
   "cell_type": "code",
   "execution_count": 95,
   "id": "787616f6",
   "metadata": {},
   "outputs": [
    {
     "data": {
      "text/plain": [
       "[array([0.00258568]), array([0.99741432])]"
      ]
     },
     "execution_count": 95,
     "metadata": {},
     "output_type": "execute_result"
    }
   ],
   "source": [
    "O[0]\n",
    "#vecteur= [element[0] for element in O[0]]\n",
    "#np.array(vecteur)"
   ]
  },
  {
   "cell_type": "code",
   "execution_count": 32,
   "id": "74f56ec0",
   "metadata": {},
   "outputs": [
    {
     "data": {
      "text/plain": [
       "array([[ 0.13710325, -0.99364524,  0.96162084,  0.99944252,  0.99990756,\n",
       "         0.99998051,  0.98285054]])"
      ]
     },
     "execution_count": 32,
     "metadata": {},
     "output_type": "execute_result"
    }
   ],
   "source": [
    "A[0]['a_1'].T"
   ]
  },
  {
   "cell_type": "code",
   "execution_count": 33,
   "id": "fe34c2b8",
   "metadata": {},
   "outputs": [],
   "source": [
    "def loss_function(data, nbr_classe, O):\n",
    "    \n",
    "    somme=0\n",
    "    g= lambda x: y_individu(x,nbr_classe)\n",
    "    valeur= data[\"Appréciation\"].apply(g)\n",
    "    for j in range(data.shape[0]):\n",
    "        y= valeur[j].reshape((nbr_classe,1))\n",
    "        somme= somme+ np.sum(np.log(O[j])-y)\n",
    "        \n",
    "    return somme\n",
    "        "
   ]
  },
  {
   "cell_type": "code",
   "execution_count": 34,
   "id": "c4e6a566",
   "metadata": {},
   "outputs": [],
   "source": [
    "def Jac_f(liste): #Jacobien de la fonction de tanh\n",
    "    \n",
    "    matrix= np.eye(len(liste))\n",
    "    for i in range(len(liste)):\n",
    "        matrix[i][i]= 1-(np.tanh(liste[i]))**2\n",
    "        \n",
    "    return matrix"
   ]
  },
  {
   "cell_type": "code",
   "execution_count": 218,
   "id": "a2120d7f",
   "metadata": {},
   "outputs": [],
   "source": [
    "L=[1,2,3]"
   ]
  },
  {
   "cell_type": "code",
   "execution_count": 219,
   "id": "c52e5fb1",
   "metadata": {},
   "outputs": [
    {
     "data": {
      "text/plain": [
       "array([[0.41997434, 0.        , 0.        ],\n",
       "       [0.        , 0.07065082, 0.        ],\n",
       "       [0.        , 0.        , 0.00986604]])"
      ]
     },
     "execution_count": 219,
     "metadata": {},
     "output_type": "execute_result"
    }
   ],
   "source": [
    "Jac_f(L)"
   ]
  },
  {
   "cell_type": "code",
   "execution_count": 35,
   "id": "e37b4cd0",
   "metadata": {},
   "outputs": [],
   "source": [
    "def backward_propagation(data, f, parametre, nbr_classe):\n",
    "    \n",
    "    gradients={}\n",
    "    r= len(Vocabulaire(data))\n",
    "    \n",
    "    #Way\n",
    "    grad_Way=np.zeros((nbr_classe,r))\n",
    "    \n",
    "    #Wax\n",
    "    grad_Wax=np.zeros((r,r))\n",
    "    \n",
    "    #Waa\n",
    "    grad_Waa= np.zeros((r,r))\n",
    "    \n",
    "    #ba\n",
    "    grad_ba=np.zeros((1,1))\n",
    "    \n",
    "    #by\n",
    "    grad_by=np.zeros((1,1))\n",
    "    \n",
    "    \n",
    "    \n",
    "    g= lambda x: y_individu(x,nbr_classe)\n",
    "    valeur= data[\"Appréciation\"].apply(g)\n",
    "    for j in range(data.shape[0]):\n",
    "        y= valeur[j].reshape((nbr_classe,1))\n",
    "        O,A= forward(data, parametre, f)\n",
    "        \n",
    "        \n",
    "        O[j]= [element[0] for element in O[j]]\n",
    "        O[j]= np.array(O[j])\n",
    "        O[j]=O[j].reshape((nbr_classe,1))\n",
    "        \n",
    "        \n",
    "        \n",
    "        \n",
    "        T= len(Extract_word(data['Phrase'][j]))\n",
    "        \n",
    "        #gradient Way\n",
    "        grad_Way= grad_Way+ np.dot(O[j]-y, (A[j]['a_'+str(T)]).T)\n",
    "        \n",
    "        #gradient Wax\n",
    "        \n",
    "        L=[]\n",
    "        matrix= np.dot(parametre['Wya'], Jac_f(A[j]['a_'+str(T)]))\n",
    "        L.append(matrix)\n",
    "        e=T-1\n",
    "        while(e>=1):\n",
    "            matrix= np.dot(matrix, np.dot(parametre['Waa'], Jac_f(A[j]['a_'+str(e)])))\n",
    "            L.append(matrix)\n",
    "            e=e-1\n",
    "        \n",
    "        word= Extract_word(data['Phrase'][j])\n",
    "        X_word={}\n",
    "        \n",
    "        for i in range(1,T+1):\n",
    "            X_word['X_'+ str(i)]= Vectorize_word(Vocabulaire(data),word[i-1]).reshape((r,1))\n",
    "        \n",
    "        \n",
    "        L=L[::-1]\n",
    "        e=1\n",
    "        somme= np.zeros((r,r))\n",
    "        while(e<=T):\n",
    "            somme= somme+ np.dot(np.dot(L[e-1].T, O[j]-y), (X_word['X_'+str(e)]).T)\n",
    "            e=e+1\n",
    "            \n",
    "        grad_Wax= grad_Wax+somme\n",
    "        \n",
    "        \n",
    "        #gradient Waa\n",
    "    \n",
    "\n",
    "        e=1\n",
    "        somme= np.zeros((r,r))\n",
    "        while(e<=T):\n",
    "            somme= somme+ np.dot(np.dot(L[e-1].T, O[j]-y), (A[j]['a_'+str(e-1)]).T)\n",
    "            e=e+1\n",
    "            \n",
    "        grad_Waa= grad_Waa + somme\n",
    "        \n",
    "        \n",
    "\n",
    "        #gradient ba \n",
    "        \n",
    "        e=1\n",
    "        somme= 0\n",
    "        while(e<=T):\n",
    "            somme= somme+ np.dot((np.dot(L[e-1].T, O[j]-y)).T, np.ones(r).reshape((r,1)))\n",
    "            e=e+1\n",
    "            \n",
    "        grad_ba= grad_ba + somme\n",
    "     \n",
    "    \n",
    "       #gradient by\n",
    "        \n",
    "        grad_by= grad_by+ np.dot((O[j]-y).T, np.ones(nbr_classe).reshape((nbr_classe,1)))\n",
    "        \n",
    "        \n",
    "    gradients['Wya']= grad_Way\n",
    "    gradients['Wax']= grad_Wax\n",
    "    gradients['Waa']= grad_Waa\n",
    "    gradients['ba']= grad_ba\n",
    "    gradients['by']= grad_by\n",
    "        \n",
    "        \n",
    "    return gradients\n",
    "    \n",
    "        \n",
    "        \n",
    "        \n",
    "        \n",
    "        "
   ]
  },
  {
   "cell_type": "code",
   "execution_count": 36,
   "id": "4120d986",
   "metadata": {},
   "outputs": [],
   "source": [
    "def update(parametre, gradients, learning_rate):\n",
    "    \n",
    "    parametre['Wya']= parametre['Wya']-learning_rate*gradients['Wya']\n",
    "    parametre['Wax']= parametre['Wax']-learning_rate*gradients['Wax']\n",
    "    parametre['Waa']= parametre['Waa']-learning_rate*gradients['Waa']\n",
    "    parametre['ba']= parametre['ba']-learning_rate*gradients['ba']\n",
    "    parametre['by']= parametre['by']-learning_rate*gradients['by']\n",
    "    \n",
    "    \n",
    "    return parametre"
   ]
  },
  {
   "cell_type": "code",
   "execution_count": 422,
   "id": "862b6878",
   "metadata": {},
   "outputs": [],
   "source": [
    "parametre= initialisation(df, 2)"
   ]
  },
  {
   "cell_type": "code",
   "execution_count": 510,
   "id": "10ac904f",
   "metadata": {},
   "outputs": [],
   "source": [
    "gradients= backward_propagation(df, f_tanh, parametre, 2)"
   ]
  },
  {
   "cell_type": "code",
   "execution_count": 498,
   "id": "cc8fc42e",
   "metadata": {},
   "outputs": [
    {
     "data": {
      "text/plain": [
       "(1, 1)"
      ]
     },
     "execution_count": 498,
     "metadata": {},
     "output_type": "execute_result"
    }
   ],
   "source": [
    "gradients['ba'].shape"
   ]
  },
  {
   "cell_type": "code",
   "execution_count": 494,
   "id": "77c90e15",
   "metadata": {},
   "outputs": [
    {
     "data": {
      "text/plain": [
       "(2, 7)"
      ]
     },
     "execution_count": 494,
     "metadata": {},
     "output_type": "execute_result"
    }
   ],
   "source": [
    "L[0].shape"
   ]
  },
  {
   "cell_type": "code",
   "execution_count": 462,
   "id": "8a70d84b",
   "metadata": {},
   "outputs": [
    {
     "data": {
      "text/plain": [
       "(2, 7)"
      ]
     },
     "execution_count": 462,
     "metadata": {},
     "output_type": "execute_result"
    }
   ],
   "source": [
    "np.dot((O-y),A[0]['a_1'].T).shape"
   ]
  },
  {
   "cell_type": "code",
   "execution_count": 37,
   "id": "c64630c7",
   "metadata": {},
   "outputs": [],
   "source": [
    "def RNN(data, learning_rate, nbr_iter, nbr_classe, f):\n",
    "    \n",
    "    #Liste pour les valeur de la fonction loss\n",
    "    \n",
    "    Loss=[]\n",
    "    acc=[]\n",
    "    parametre= initialisation(data, nbr_classe)\n",
    "    \n",
    "    for e in tqdm(range(nbr_iter)):\n",
    "        \n",
    "        prediction=[]\n",
    "    \n",
    "    \n",
    "        #Forward\n",
    "    \n",
    "        O,A= forward(data, parametre, f)\n",
    "        for j in range(data.shape[0]):\n",
    "            O[j]= [element[0] for element in O[j]]\n",
    "            O[j]= np.array(O[j])\n",
    "            O[j].reshape((nbr_classe,1))\n",
    "            \n",
    "        for j in range(data.shape[0]):\n",
    "           \n",
    "             indice= predict(O[j])\n",
    "             prediction.append(indice)\n",
    "                \n",
    "                \n",
    "        accuracy= sum(prediction==data[\"Appréciation\"])/(data.shape[0])\n",
    "        acc.append(accuracy)\n",
    "        \n",
    "        L= loss_function(data, nbr_classe, O)\n",
    "        Loss.append(L)\n",
    "        \n",
    "        \n",
    "        #Backward\n",
    "        \n",
    "        gradients= backward_propagation(data, f, parametre, nbr_classe)\n",
    "        parametre= update(parametre, gradients, learning_rate)\n",
    "        \n",
    "    \n",
    "  \n",
    "        \n",
    "    \n",
    "        \n",
    "        \n",
    "    #Graphique\n",
    "    \n",
    "    plt.figure(figsize=(12,4))\n",
    "    plt.subplot(1,2,1)\n",
    "    plt.plot(Loss, label=\"Loss\")\n",
    "    plt.legend()\n",
    "    plt.subplot(1,2,2)\n",
    "    plt.plot(acc, label=\"accuracy\")\n",
    "    plt.legend()\n",
    "    plt.show()\n",
    "   \n",
    "    \n",
    "    \n",
    "    return parametre\n",
    "        \n",
    "        \n",
    "    \n",
    "    "
   ]
  },
  {
   "cell_type": "code",
   "execution_count": 38,
   "id": "fd77bcd8",
   "metadata": {},
   "outputs": [],
   "source": [
    "def predict(O):\n",
    "    \n",
    "    indice_max= np.argmax(O)\n",
    "    return indice_max\n",
    "    "
   ]
  },
  {
   "cell_type": "code",
   "execution_count": 90,
   "id": "4feae1f3",
   "metadata": {},
   "outputs": [
    {
     "name": "stderr",
     "output_type": "stream",
     "text": [
      "100%|█████████████████████████████████████████| 100/100 [00:07<00:00, 12.58it/s]\n"
     ]
    },
    {
     "data": {
      "image/png": "[encoded data removed]",
      "text/plain": [
       "<Figure size 864x288 with 2 Axes>"
      ]
     },
     "metadata": {
      "needs_background": "light"
     },
     "output_type": "display_data"
    }
   ],
   "source": [
    "parametre= RNN(df_tilde, 0.01, 100, 2, f_tanh)"
   ]
  },
  {
   "cell_type": "code",
   "execution_count": 91,
   "id": "79ce3bd8",
   "metadata": {},
   "outputs": [
    {
     "data": {
      "text/plain": [
       "{'a_0': array([[ 1.18308151],\n",
       "        [-0.75520398],\n",
       "        [-0.1327739 ],\n",
       "        [-1.54197931],\n",
       "        [ 0.53715351],\n",
       "        [-1.21791163],\n",
       "        [ 1.59020118],\n",
       "        [-1.10626274],\n",
       "        [ 1.0380062 ],\n",
       "        [-0.29473374],\n",
       "        [-0.07591486],\n",
       "        [-0.51564325],\n",
       "        [ 1.07558908],\n",
       "        [-1.53418802],\n",
       "        [ 1.97039617],\n",
       "        [ 0.71278035],\n",
       "        [ 1.00696731],\n",
       "        [-1.04689416],\n",
       "        [ 0.51026412],\n",
       "        [-1.09728072],\n",
       "        [ 0.11944533],\n",
       "        [ 0.7973733 ]]),\n",
       " 'Wya': array([[ 0.37325115, -1.62548057, -0.09670176,  0.62301552, -0.05036148,\n",
       "          1.02111656,  0.395541  ,  0.4460131 , -1.30520027,  0.08497379,\n",
       "          1.02323584, -0.66118211, -0.59679745, -1.65009153,  0.39369341,\n",
       "          0.45078373, -0.47120756, -0.05285778, -1.05223094, -1.5949106 ,\n",
       "         -1.21629668,  1.65920069],\n",
       "        [ 0.10322629, -1.45645602, -1.16187685, -2.56447311, -0.62625774,\n",
       "         -1.71299754,  0.97180358,  1.4720347 , -0.89020471, -0.84945324,\n",
       "         -0.5539613 ,  1.40998718, -1.11028822,  0.58523563, -0.45081938,\n",
       "          2.49535916, -1.48581983, -0.33191108, -0.16013928,  0.63742634,\n",
       "         -0.05211288,  0.5274312 ]]),\n",
       " 'Waa': array([[ 5.35263275e-01,  5.82600475e-01,  1.39290106e+00,\n",
       "          1.18787902e+00, -7.78246290e-01,  5.87128629e-01,\n",
       "         -1.44664743e+00,  8.66469781e-01,  2.04849081e-01,\n",
       "          3.35773427e-01,  1.65418585e+00,  1.55038965e+00,\n",
       "         -2.48349360e+00,  6.85330417e-01,  2.74740008e-01,\n",
       "         -1.06131083e-02,  1.11555311e-01, -8.00279258e-01,\n",
       "          2.01382158e+00,  1.29933998e+00,  1.16776008e+00,\n",
       "         -1.09160478e+00],\n",
       "        [ 3.41728237e-01,  4.32700214e-01,  1.03195810e+00,\n",
       "          2.05576096e+00, -6.82647736e-01, -4.26044679e-01,\n",
       "         -8.38483925e-01, -8.23255486e-01, -1.24055051e+00,\n",
       "          1.42436500e+00,  1.15144220e+00, -8.74624129e-01,\n",
       "         -2.60277150e-01,  1.38591725e-01, -1.34720935e+00,\n",
       "         -1.64539335e+00,  5.27420328e-01, -1.84172054e+00,\n",
       "         -1.42502103e+00,  1.18210261e+00,  3.63714722e-01,\n",
       "         -1.84635702e-01],\n",
       "        [ 9.68510029e-01,  8.79101088e-01,  7.66608163e-01,\n",
       "         -2.07134655e+00, -5.18722130e-02,  8.28408997e-01,\n",
       "         -1.05306636e+00,  1.05446180e+00, -1.11796103e+00,\n",
       "         -1.29261188e+00, -7.59345504e-01,  4.69570306e-02,\n",
       "          6.90021015e-02,  3.44159939e-01,  8.21200736e-01,\n",
       "          1.18481123e+00, -8.60813759e-01, -1.56712076e+00,\n",
       "         -5.58329143e-01, -1.22406056e+00,  1.14594586e+00,\n",
       "         -1.33341911e+00],\n",
       "        [ 1.93446501e+00, -1.71062309e+00,  1.62253414e+00,\n",
       "         -3.71009761e-01,  2.02880167e+00, -1.25619573e+00,\n",
       "          1.54691997e+00, -2.15386869e+00, -6.54836045e-01,\n",
       "          1.47705495e+00, -5.53742042e-01,  7.22396291e-01,\n",
       "          2.30108282e+00, -1.13198049e+00,  2.29208725e+00,\n",
       "          1.01778081e+00,  2.24374911e+00, -8.57625513e-01,\n",
       "         -4.30819955e-01, -4.15301165e+00, -1.51244760e+00,\n",
       "          6.46400218e-01],\n",
       "        [ 1.91829240e+00, -7.63019637e-01, -6.73941589e-01,\n",
       "         -3.64189369e+00, -1.24279396e+00, -2.41137860e+00,\n",
       "          1.97571960e+00, -2.55659635e+00,  1.61372099e+00,\n",
       "          7.45593804e-01, -1.54905718e+00, -1.34272780e+00,\n",
       "          1.59373619e+00, -3.18515400e+00,  2.05631830e+00,\n",
       "          3.54412978e-01,  1.00172507e+00, -1.74482517e+00,\n",
       "          6.79021056e-01, -1.46231711e+00, -1.27456919e+00,\n",
       "          1.28267488e+00],\n",
       "        [ 3.30510795e-01, -1.41213470e+00,  1.40095237e+00,\n",
       "          1.75226332e+00, -9.38144292e-01, -5.32186291e-01,\n",
       "         -1.21846860e+00, -2.74832841e-01,  1.53077487e-01,\n",
       "         -5.49883930e-01, -2.01738740e+00, -1.16539734e+00,\n",
       "         -1.77334201e+00, -1.28404889e+00,  1.86020169e+00,\n",
       "         -5.44332649e-01,  1.40198332e+00, -8.91979039e-01,\n",
       "         -5.22713602e-01,  1.27671839e+00,  2.89249601e-01,\n",
       "          1.25719720e+00],\n",
       "        [-1.77169946e+00,  9.18462681e-01,  1.45591739e+00,\n",
       "          1.17046875e+00,  1.66903418e+00,  1.39828637e-01,\n",
       "         -2.41440120e+00, -3.47752516e-01, -8.16726927e-01,\n",
       "         -1.80989227e+00,  9.28271499e-02, -3.05738443e-01,\n",
       "          8.88292380e-01,  8.11866826e-01,  1.17398419e+00,\n",
       "         -2.12007790e+00, -8.60073576e-01, -1.00355486e+00,\n",
       "          6.97936675e-01, -1.84440228e-01, -6.18524287e-01,\n",
       "         -1.74912797e+00],\n",
       "        [ 6.92240093e-01,  1.63752080e+00,  7.16667402e-01,\n",
       "          2.24759353e+00, -7.32383237e-01, -9.00447036e-01,\n",
       "         -1.51162564e+00, -4.20286245e-01, -8.57427866e-01,\n",
       "          1.15327974e+00,  2.17145039e-01, -6.51115783e-01,\n",
       "          5.64638988e-01,  1.54976512e+00, -2.53547296e+00,\n",
       "         -2.15615061e+00, -1.54247045e+00, -9.71275808e-01,\n",
       "         -2.46678293e+00, -2.05693999e-01, -1.49173485e+00,\n",
       "         -5.16977218e-01],\n",
       "        [-2.79296392e+00, -3.90498114e-01,  2.27905574e-01,\n",
       "          1.69433522e+00, -1.39463194e+00,  1.75993257e+00,\n",
       "         -1.19660728e+00,  4.14373170e-01, -6.15703193e-01,\n",
       "         -1.25602522e+00,  2.05825443e+00,  1.42701204e+00,\n",
       "         -1.87970225e+00,  3.22761874e+00, -3.12889164e+00,\n",
       "         -2.30177251e+00, -9.31818352e-01,  1.67802704e+00,\n",
       "         -7.46614670e-01, -4.61344428e-01, -4.36658507e-01,\n",
       "         -9.33373840e-01],\n",
       "        [ 2.00062704e-01, -1.32591892e+00, -3.99336010e-01,\n",
       "         -1.09372843e+00, -6.16618739e-02, -2.52680002e+00,\n",
       "          1.07194501e+00,  3.34890446e-01, -1.14042479e+00,\n",
       "          1.20535184e+00,  5.93167949e-01, -1.43457168e+00,\n",
       "          6.13900443e-01, -5.16246925e-01,  1.72005875e-02,\n",
       "          1.08144892e+00,  2.36590481e+00, -4.18501572e-01,\n",
       "          7.20075115e-01, -2.21185604e-01, -1.03467477e+00,\n",
       "          9.44524249e-01],\n",
       "        [ 6.73083237e-02,  4.35472686e-01,  1.10905834e+00,\n",
       "          4.74470229e-01, -2.29929233e+00,  1.10131452e+00,\n",
       "          2.16502921e+00, -1.88881090e+00, -9.17813241e-01,\n",
       "         -1.28333487e+00,  5.79905928e-01, -5.01034121e-01,\n",
       "         -9.02851746e-01,  1.32441647e+00, -6.37940993e-01,\n",
       "          8.93768586e-01, -5.85783362e-01,  1.14465311e+00,\n",
       "          1.29199548e+00, -3.95135798e-01, -7.88755335e-02,\n",
       "          1.26970854e+00],\n",
       "        [ 1.48659723e+00,  1.30829191e+00,  4.94254487e-01,\n",
       "         -3.50519387e-01,  2.67242011e+00, -1.69727942e+00,\n",
       "          1.72585298e+00,  2.77600762e-01,  1.85650202e+00,\n",
       "         -1.81566116e-01,  1.56413546e+00, -1.40363501e+00,\n",
       "          5.42090736e-01,  2.24230129e-01,  2.12738529e+00,\n",
       "          7.26542339e-01,  1.16935127e+00, -1.22394053e+00,\n",
       "          3.05799752e-01, -8.41861456e-01, -7.52150427e-01,\n",
       "         -1.28747759e-01],\n",
       "        [-8.21228011e-02,  6.29817054e-01, -3.44852557e-01,\n",
       "          1.90569398e+00,  2.03558528e+00,  2.99499813e+00,\n",
       "         -4.19811126e-01, -3.38015914e-01, -9.48835318e-01,\n",
       "          8.02540866e-01, -8.79249995e-01,  1.50239022e+00,\n",
       "         -3.80601353e-01,  1.78007828e+00, -3.89081887e+00,\n",
       "         -1.55001353e+00, -1.62398682e-02,  1.49831846e+00,\n",
       "         -4.49466645e-01, -2.58295669e-01,  2.33509362e-01,\n",
       "         -2.08719481e+00],\n",
       "        [-1.10761780e+00, -1.37578138e+00, -1.49989012e+00,\n",
       "          8.57581615e-01, -3.97121850e-01,  1.79219828e-01,\n",
       "          3.58041877e-01,  7.15444035e-01, -2.56435853e-01,\n",
       "         -1.21281584e-01,  2.64382945e-01,  2.75882369e-01,\n",
       "          9.54618790e-01,  2.18160415e-02, -1.64927230e+00,\n",
       "          4.37944291e-01,  2.03898209e-01,  1.23917106e+00,\n",
       "         -1.31694038e-01,  1.76146212e+00, -1.14481670e-01,\n",
       "          2.29270182e+00],\n",
       "        [-8.86590485e-01,  1.09372885e+00,  1.23417015e+00,\n",
       "          1.41573815e+00, -2.99875070e+00,  8.45263020e-01,\n",
       "          6.93577236e-01,  9.72975824e-01,  2.98173364e-01,\n",
       "         -3.16311688e-01, -2.14884207e-01,  8.84996211e-01,\n",
       "         -8.91080177e-02,  6.52249621e-01, -1.35175445e-01,\n",
       "         -1.25916908e+00, -3.04782437e+00,  2.59431522e+00,\n",
       "         -8.20950643e-01,  2.03396934e+00, -3.29890884e-01,\n",
       "         -9.05463447e-01],\n",
       "        [-1.79619359e+00,  8.51394807e-01, -5.56086368e-01,\n",
       "          2.20144383e+00, -2.03629600e-01,  2.99578506e+00,\n",
       "         -4.13668905e-01,  2.25394262e+00, -9.53390523e-01,\n",
       "          1.29991637e+00, -2.43988608e+00,  9.38080336e-01,\n",
       "          1.14302207e+00,  5.56054619e-01, -1.45497012e+00,\n",
       "          3.62529873e-03, -6.23613646e-01,  2.42490236e+00,\n",
       "         -1.51526038e+00,  5.55749937e-01, -6.08533949e-01,\n",
       "         -1.82835039e+00],\n",
       "        [ 2.66050462e+00, -4.13120226e-01,  6.54492942e-01,\n",
       "         -2.29004405e+00, -8.53711502e-01, -1.18367020e+00,\n",
       "          6.30101095e-01, -6.93763134e-01,  1.82570047e+00,\n",
       "         -2.38581218e+00,  6.52816261e-01,  1.65594878e+00,\n",
       "          3.08017988e+00, -1.65147758e+00,  2.26637986e+00,\n",
       "          1.32404741e+00,  7.02081123e-01, -1.56107944e-01,\n",
       "          1.62148847e+00, -2.44408394e+00,  5.72106687e-02,\n",
       "          1.08248743e+00],\n",
       "        [-1.82108285e+00, -1.22208658e-02, -6.36800796e-01,\n",
       "          2.68574751e+00, -4.94832058e-02,  8.36332273e-01,\n",
       "         -1.53599247e+00,  1.59846058e+00, -2.35289592e+00,\n",
       "          2.88667353e-01, -5.91823139e-01,  4.01006059e+00,\n",
       "         -1.75876843e+00,  1.11349725e+00, -3.86574565e+00,\n",
       "         -2.22942012e-01,  8.13316679e-01,  1.15263060e+00,\n",
       "         -2.64837316e+00,  2.44300451e+00, -1.89553436e+00,\n",
       "         -1.44502706e-01],\n",
       "        [ 3.12456597e-01,  1.97845291e+00, -1.67148331e+00,\n",
       "          1.29216045e+00, -8.27254717e-01,  7.81367814e-01,\n",
       "         -1.44316537e+00,  3.27233099e+00,  1.25598877e+00,\n",
       "          2.74240383e+00, -1.14957536e+00,  8.10776117e-01,\n",
       "          8.20492341e-02,  2.43810110e+00, -1.33799853e+00,\n",
       "          6.17392958e-01, -1.75624862e+00,  2.66247742e+00,\n",
       "         -4.93824820e-01,  1.43139789e+00, -5.14471103e-01,\n",
       "         -6.40275999e-01],\n",
       "        [ 5.47928937e-01,  8.17612872e-01,  9.44427296e-01,\n",
       "         -3.05433312e-01,  1.20964347e+00,  1.93111733e+00,\n",
       "          7.35901429e-01, -2.35743505e-01,  7.32671214e-01,\n",
       "          3.09679490e-01,  6.95389770e-01, -1.53646540e-01,\n",
       "          3.08804503e-02, -9.83045458e-01,  1.93468168e+00,\n",
       "         -1.40431232e+00, -2.61912481e-01, -1.39290933e+00,\n",
       "         -1.21353923e-01,  2.98727451e-01,  2.57754437e+00,\n",
       "          8.21744793e-01],\n",
       "        [ 1.27981282e+00,  2.90564723e-01, -4.17973412e-01,\n",
       "         -4.80910195e-01, -1.57258524e+00,  2.14726828e-01,\n",
       "         -1.22164826e+00,  1.12167562e+00, -9.92891292e-01,\n",
       "          7.13953214e-01, -4.50527709e-01, -1.02322076e+00,\n",
       "         -1.16139854e+00,  1.00487800e+00, -5.10653671e-01,\n",
       "         -2.79488585e-01, -1.30871836e-01,  6.50398615e-01,\n",
       "          9.55156898e-02,  3.13862363e+00,  1.83977384e+00,\n",
       "         -6.75624488e-01],\n",
       "        [ 1.31397475e+00,  1.95422987e-01,  2.33212209e-01,\n",
       "         -9.47358910e-02,  1.26802265e-01, -7.90187661e-01,\n",
       "          1.08672808e+00,  8.55749568e-01,  2.71816673e+00,\n",
       "          1.02297446e+00,  1.00310390e+00,  1.14953936e+00,\n",
       "          6.14141956e-03,  2.69875421e+00,  1.40629189e+00,\n",
       "         -4.00968843e-01,  2.41250266e+00, -1.03814616e+00,\n",
       "          1.76699367e+00, -3.67137496e-01,  7.66573499e-01,\n",
       "          4.76838230e-01]]),\n",
       " 'Wax': array([[-1.40369836e-01,  3.62247726e-01, -4.61458455e-02,\n",
       "          1.99593855e+00, -3.60765701e-01,  3.18604684e-01,\n",
       "          1.07158979e+00,  3.79586706e-01, -6.49340060e-01,\n",
       "          1.88908390e+00, -2.61797201e-01,  2.68234800e-01,\n",
       "          4.92252831e-01, -6.50846582e-01, -5.19297275e-01,\n",
       "          6.24601354e-01,  1.02450849e-01,  7.52865234e-01,\n",
       "          1.18905385e+00,  4.66018679e-01,  1.57420638e+00,\n",
       "          3.38162866e-01],\n",
       "        [ 1.63917871e+00,  3.25744477e-01,  8.83829443e-01,\n",
       "          1.08482245e+00,  7.21488030e-01,  1.37839657e+00,\n",
       "         -1.25213086e+00,  1.02247596e+00, -1.98134269e-01,\n",
       "          3.82782275e-01, -1.40657935e+00,  4.74687311e-01,\n",
       "          1.43505613e+00, -3.03614573e-01,  1.14897352e+00,\n",
       "          1.87868152e+00, -1.58274828e+00, -8.44447334e-02,\n",
       "         -2.31004685e-02, -1.74276387e+00, -1.19005253e+00,\n",
       "          9.64810444e-02],\n",
       "        [-6.26313623e-01, -2.86276607e+00, -5.33648289e-01,\n",
       "         -2.73009817e-01,  1.03455480e-01, -3.77229304e-01,\n",
       "         -3.26118539e-01, -6.11204104e-01,  1.05634489e+00,\n",
       "          1.54902403e+00, -1.47290316e+00,  1.60389357e+00,\n",
       "         -1.05402609e+00,  1.69916961e+00, -3.64426966e-01,\n",
       "          7.84355308e-01,  1.17471665e+00,  1.69467695e+00,\n",
       "         -9.53509443e-02,  3.59481353e-01, -5.58853583e-01,\n",
       "          5.96872454e-01],\n",
       "        [-4.16248076e-01, -3.64716502e-01,  3.60945018e-01,\n",
       "          1.83785619e+00, -3.47875988e-01, -1.22108135e+00,\n",
       "          1.14758814e+00, -4.22971320e-01, -8.75681834e-01,\n",
       "          4.36427784e-01, -2.84817601e-01, -1.13754935e+00,\n",
       "          1.04102282e+00,  7.00186812e-01, -2.50967207e-01,\n",
       "         -1.84847520e-01,  3.57212835e+00, -8.09675273e-02,\n",
       "          9.83038829e-01, -2.36929956e-01,  1.03171992e+00,\n",
       "          2.15740673e+00],\n",
       "        [-1.38352288e-01, -1.82006509e+00, -6.60941856e-01,\n",
       "          1.46057257e-01,  2.70614440e-01,  3.70986398e-01,\n",
       "         -1.83696097e-01,  3.52103022e-01,  5.04104507e-02,\n",
       "          1.29855329e-01,  3.10872535e-01, -2.24662497e-01,\n",
       "          6.08085423e-01,  4.51943379e-01, -5.62766528e-01,\n",
       "         -1.19583707e+00,  3.12323533e-02, -4.99659914e-01,\n",
       "          1.39649493e+00,  7.16037041e-01,  1.32395588e+00,\n",
       "         -2.90835464e-01],\n",
       "        [-3.08725002e-01, -1.15768513e+00, -1.53195784e+00,\n",
       "         -1.47711729e-01, -9.32540250e-01, -1.41295841e+00,\n",
       "         -9.79031031e-01, -7.90247945e-01,  1.52222552e+00,\n",
       "          2.75477868e-01,  1.20578383e+00,  1.40838566e-03,\n",
       "         -1.25505972e+00, -1.23891055e+00,  3.35281455e+00,\n",
       "          3.19451167e-01, -5.86437918e-01,  1.50038229e+00,\n",
       "         -1.23733829e+00, -7.01844367e-01,  7.47921243e-01,\n",
       "          1.11824493e+00],\n",
       "        [-3.90789194e-01, -6.94914070e-01, -9.29646088e-01,\n",
       "         -5.04594711e-02,  4.90342413e-02, -2.05607705e+00,\n",
       "         -8.56586178e-01,  1.76418926e+00,  1.33427674e+00,\n",
       "         -1.09759052e+00, -3.43686015e-01,  1.15940018e+00,\n",
       "          1.28525041e+00, -3.57375630e-01,  2.00717170e-01,\n",
       "          7.26106962e-01, -1.81383713e+00, -1.16039151e+00,\n",
       "          1.07513866e+00,  4.45339385e-02,  1.28982095e+00,\n",
       "         -9.10515053e-01],\n",
       "        [-8.26575958e-01,  1.34695351e-01,  1.75333977e-01,\n",
       "         -1.15735752e+00,  8.16402294e-02, -5.27880632e-01,\n",
       "         -3.42907665e-01,  7.39761193e-01, -3.62704694e-01,\n",
       "          3.34783568e-01, -3.98733668e-01, -9.45368642e-01,\n",
       "          2.25039838e-01,  7.22619616e-01,  5.15532937e-01,\n",
       "         -1.10931452e+00,  4.57660608e-01,  1.86409725e+00,\n",
       "          1.16565833e+00,  3.20843463e-01, -5.65275405e-01,\n",
       "         -4.16961934e-01],\n",
       "        [ 1.66827027e+00,  4.76661457e-01,  5.22085842e-01,\n",
       "         -4.60452558e-01, -6.20375725e-01,  7.66606100e-02,\n",
       "         -1.08924112e+00,  1.87842844e+00,  3.03184673e-01,\n",
       "         -1.80056906e-01, -7.78760574e-01,  4.19952387e-01,\n",
       "          1.33875132e+00, -1.07228119e+00,  7.76781905e-01,\n",
       "         -6.13977360e-01, -5.96411493e-01, -6.64928511e-01,\n",
       "          1.18087142e+00,  1.89200469e-01, -1.54679433e+00,\n",
       "          1.34929797e-01],\n",
       "        [-1.88947002e-02, -7.05202415e-01,  1.67119611e+00,\n",
       "          7.97028623e-01,  7.09720165e-01, -2.79256849e+00,\n",
       "         -3.45595367e-01,  1.02480322e+00, -8.40873800e-01,\n",
       "          4.17719823e-01,  7.10449542e-01,  3.50963563e-01,\n",
       "         -9.33601751e-01, -8.86003621e-01,  1.70947713e-01,\n",
       "          1.35835587e-01,  1.53403742e+00,  1.52065796e-01,\n",
       "          1.56090148e-01, -1.32967287e+00,  2.14827963e+00,\n",
       "         -4.04761021e-01],\n",
       "        [ 2.22718276e+00, -5.58438221e-01,  1.72778304e-01,\n",
       "         -1.05093831e+00,  1.66699580e+00, -1.36363300e+00,\n",
       "          9.61041232e-01,  1.41902515e-01, -1.30869649e+00,\n",
       "          5.44888208e-01,  2.98008178e-01, -1.55768001e+00,\n",
       "         -2.22771549e+00,  5.24246380e-01, -3.29074346e-01,\n",
       "          8.85416510e-01,  4.55978092e-01, -2.75703476e+00,\n",
       "          4.72031766e-01,  3.55607269e-01,  1.05321506e+00,\n",
       "          1.16951295e+00],\n",
       "        [-7.80107962e-01, -1.31261267e+00, -2.67505088e-01,\n",
       "          7.76094426e-01,  1.13193424e+00,  1.32859427e+00,\n",
       "         -3.88354722e-01, -1.95026580e-01, -4.56052111e-01,\n",
       "          5.08513525e-01,  1.24594753e+00, -2.13413417e+00,\n",
       "         -1.65092909e+00, -7.35865961e-01,  1.64016612e-01,\n",
       "          1.34448623e+00,  1.58334799e+00,  7.04036713e-01,\n",
       "         -1.78443983e+00,  2.34631038e-01, -8.14623125e-01,\n",
       "         -4.97308982e-01],\n",
       "        [-1.01217110e+00, -6.08600129e-01, -2.01517142e-01,\n",
       "          1.28785550e-01,  6.86897356e-01, -1.17394918e+00,\n",
       "         -9.67034317e-01, -1.07424985e+00,  8.14277462e-01,\n",
       "         -1.88896171e+00, -1.18853591e+00,  2.43679407e-01,\n",
       "          1.80604794e+00,  1.49130394e-01, -2.28155112e+00,\n",
       "          3.43263736e-01, -7.50486880e-01,  5.17182027e-01,\n",
       "          6.85193950e-01, -4.70606067e-01,  7.55720376e-01,\n",
       "         -6.30564235e-01],\n",
       "        [-1.14136018e+00, -1.57661751e+00,  1.33675411e+00,\n",
       "          6.37263232e-01, -3.69674870e-01, -9.77881641e-02,\n",
       "          2.21324797e-01,  1.29518894e+00,  4.84890182e-01,\n",
       "          9.49443640e-01,  8.60418145e-01, -9.33315333e-01,\n",
       "          3.99829052e-01, -1.25462905e+00, -1.14473219e+00,\n",
       "          1.97523241e-01,  1.98502966e-01,  8.47478506e-01,\n",
       "         -8.59801118e-02, -1.06095235e+00,  9.69566983e-01,\n",
       "         -3.29307450e-01],\n",
       "        [ 1.24072200e+00, -1.79709301e-01, -6.78704661e-01,\n",
       "          2.34429174e+00,  1.99967627e+00,  5.86470179e-01,\n",
       "          2.33651005e-01,  6.72116793e-01,  2.55484786e-01,\n",
       "         -5.83123180e-01,  9.46990810e-01,  3.95879720e-01,\n",
       "          5.78071546e-01, -9.81864418e-01, -1.05989764e+00,\n",
       "          6.06623653e-01,  2.86480730e-01,  1.69746778e-01,\n",
       "          5.40928890e-01, -4.57675580e-01,  3.27518337e-01,\n",
       "          1.38439970e+00],\n",
       "        [ 1.02075164e+00,  5.38483050e-01,  6.23609298e-01,\n",
       "         -2.22260080e+00,  5.50776846e-01, -3.27703554e-02,\n",
       "          5.63792441e-01, -1.23235689e-01,  1.77000671e+00,\n",
       "          1.92221993e+00, -1.94348221e+00,  1.22420301e+00,\n",
       "          1.27169092e+00, -9.66806662e-01,  2.05661739e+00,\n",
       "         -1.35186654e-01,  5.40919731e-01, -8.46915493e-01,\n",
       "          1.27615558e-01, -5.85939273e-01, -2.87254206e-01,\n",
       "          1.75442009e+00],\n",
       "        [-1.08420374e+00, -9.65376014e-01,  1.21097516e-01,\n",
       "          3.31810178e-01,  3.27677755e-01, -7.39867321e-02,\n",
       "         -1.10882851e+00, -7.33636141e-01, -3.36663858e-01,\n",
       "         -1.51294154e+00,  2.45366394e-01,  3.74609558e-01,\n",
       "         -7.26379335e-01, -1.66706160e+00,  2.83687834e-01,\n",
       "          1.63832221e+00,  1.34588443e+00, -1.07378632e-02,\n",
       "          7.72986879e-01,  1.29457501e+00, -9.62076785e-02,\n",
       "          1.06458781e+00],\n",
       "        [-6.51462350e-01,  4.20655346e-01,  1.11012554e+00,\n",
       "          4.10907003e-01,  1.58555580e-01,  1.51779811e+00,\n",
       "          1.09546182e+00,  9.84505676e-01, -1.01201292e+00,\n",
       "         -6.69992719e-01, -7.06332944e-01,  7.53651777e-01,\n",
       "          7.79473719e-01, -4.94008269e-01, -1.56154598e-01,\n",
       "         -7.57434761e-01,  2.30185233e-02,  1.31073103e+00,\n",
       "         -1.12084186e+00,  1.09779200e+00, -1.44872873e-01,\n",
       "         -1.69530062e+00],\n",
       "        [-3.41437551e-01,  8.59241692e-01, -7.27153993e-01,\n",
       "          1.44080398e+00,  2.06525574e-01, -6.81360116e-01,\n",
       "         -2.25933210e-01, -3.74166448e-01,  2.88955143e-01,\n",
       "         -1.49495879e+00, -7.11668305e-01, -7.91768993e-01,\n",
       "          6.73223130e-01, -4.81812465e-01,  1.67908154e+00,\n",
       "          1.63497651e+00, -2.28908765e-01, -4.08562824e-01,\n",
       "         -1.47799587e+00, -6.78272592e-02,  5.38549153e-01,\n",
       "         -4.00478706e-01],\n",
       "        [ 1.35996512e+00, -9.89151566e-01,  4.80196447e-01,\n",
       "         -3.07437011e+00,  1.07210411e+00,  4.45885986e-01,\n",
       "         -1.10788212e+00,  4.19420023e-01, -5.14323524e-01,\n",
       "         -9.35513110e-02, -1.05949522e+00,  1.17011130e+00,\n",
       "          7.65984539e-02,  1.12936868e+00,  5.71799513e-01,\n",
       "          2.68711723e-01, -1.81754676e-01, -8.70312459e-01,\n",
       "          1.94003618e-01,  2.09793353e-01,  1.37590505e+00,\n",
       "         -7.87853628e-01],\n",
       "        [-3.51031618e+00,  5.33282849e-01, -5.13023466e-02,\n",
       "         -4.38977123e-01, -9.16537333e-02,  6.28642325e-01,\n",
       "         -1.64613754e+00,  5.63467924e-01,  1.32605255e-02,\n",
       "          2.48799132e-01,  1.37851476e+00,  1.02166153e+00,\n",
       "          8.91398650e-02, -1.20363169e+00, -9.44218079e-01,\n",
       "          8.31675290e-01,  5.90155552e-01,  1.34925307e+00,\n",
       "          8.77929285e-01,  6.14571812e-01,  9.66925273e-02,\n",
       "         -5.68318199e-01],\n",
       "        [ 7.44979695e-01,  1.58631927e-01,  5.43727200e-01,\n",
       "          1.56134956e+00,  1.52103166e+00,  2.78993508e-01,\n",
       "          8.27351099e-02,  1.30897205e-02,  3.23902118e-01,\n",
       "          4.85101423e-01,  4.32863176e-01, -4.97259618e-01,\n",
       "         -5.59590383e-01,  1.93063398e-01, -1.13106932e+00,\n",
       "          3.03531402e-01, -1.48609916e-01, -4.20151764e-01,\n",
       "         -7.90052416e-01, -5.73327002e-01,  7.17296348e-01,\n",
       "         -8.28133151e-01]]),\n",
       " 'by': array([[-0.57193345]]),\n",
       " 'ba': array([[-2.37772732]])}"
      ]
     },
     "execution_count": 91,
     "metadata": {},
     "output_type": "execute_result"
    }
   ],
   "source": [
    "parametre"
   ]
  },
  {
   "cell_type": "code",
   "execution_count": null,
   "id": "18d24137",
   "metadata": {},
   "outputs": [],
   "source": []
  },
  {
   "cell_type": "code",
   "execution_count": null,
   "id": "faf23bff",
   "metadata": {},
   "outputs": [],
   "source": []
  },
  {
   "cell_type": "code",
   "execution_count": null,
   "id": "5423a91b",
   "metadata": {},
   "outputs": [],
   "source": []
  },
  {
   "cell_type": "code",
   "execution_count": null,
   "id": "35be75bd",
   "metadata": {},
   "outputs": [],
   "source": []
  },
  {
   "cell_type": "code",
   "execution_count": null,
   "id": "818e9581",
   "metadata": {},
   "outputs": [],
   "source": []
  },
  {
   "cell_type": "code",
   "execution_count": null,
   "id": "345a0f0e",
   "metadata": {},
   "outputs": [],
   "source": []
  }
 ],
 "metadata": {
  "kernelspec": {
   "display_name": "Python 3 (ipykernel)",
   "language": "python",
   "name": "python3"
  },
  "language_info": {
   "codemirror_mode": {
    "name": "ipython",
    "version": 3
   },
   "file_extension": ".py",
   "mimetype": "text/x-python",
   "name": "python",
   "nbconvert_exporter": "python",
   "pygments_lexer": "ipython3",
   "version": "3.9.12"
  }
 },
 "nbformat": 4,
 "nbformat_minor": 5
}
